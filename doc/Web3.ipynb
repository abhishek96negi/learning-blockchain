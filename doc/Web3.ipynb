{
 "cells": [
  {
   "cell_type": "markdown",
   "id": "c31f8c40",
   "metadata": {},
   "source": [
    "There are a few different aspects to developing blockchain applications with Ethereum:\n",
    "\n",
    "1. Smart contract development - writing code that gets deployed to the blockchain with the Solidity programming language.\n",
    "\n",
    "2. Developing websites or clients that interact with the blockchain - writing code that reads and writes data from the blockchain with smart contracts.\n",
    "\n",
    "Web3.py enables you to fulfill the second responsibility: developing clients that interact with The Etherem Blockchain. It is a collection of libraries that allow you to perform actions like send Ether from one account to another, read and write data from smart contracts, create smart contracts, and so much more!\n",
    "\n",
    "If you have a web development background, you might have used jQuery to make Ajax calls to a web server. That's a good starting point for understanding the function of Web3.py. Instead of using a jQuery to read and write data from a web server, you can use Web3.py to read and write to The Ethereum Blockchain.\n",
    "\n",
    "Let me explain how you can use Web3.py to talk to The Ethereum Blockchain. Here is a diagram of how a client talks to Ethereum:\n",
    "\n",
    "![web31.png](../static/image/web3/web31.png)\n",
    "\n",
    "Web3.py talks to The Ethereum Blockchain with JSON RPC, which stands for \"Remote Procedure Call\" protocol. Ethereum is a peer-to-peer network of nodes that stores a copy of all the data and code on the blockchain. Web3.py allows us to make requests to an individual Ethereum node with JSON RPC in order to read and write data to the network. It's kind of like using jQuery with a JSON API to read and write data with a web server."
   ]
  },
  {
   "cell_type": "code",
   "execution_count": 1,
   "id": "94e29a35",
   "metadata": {},
   "outputs": [],
   "source": [
    "# Installing the Library\n",
    "#!pip install web3"
   ]
  },
  {
   "cell_type": "code",
   "execution_count": 2,
   "id": "d008753c",
   "metadata": {},
   "outputs": [],
   "source": [
    "# Importing the Library\n",
    "from web3 import Web3\n",
    "import json"
   ]
  },
  {
   "cell_type": "code",
   "execution_count": 3,
   "id": "756dd218",
   "metadata": {},
   "outputs": [
    {
     "data": {
      "text/plain": [
       "<web3.main.Web3 at 0x7fb3c8934e10>"
      ]
     },
     "execution_count": 3,
     "metadata": {},
     "output_type": "execute_result"
    }
   ],
   "source": [
    "# Set up web3 connection with Ganache\n",
    "ganache_url = \"http://127.0.0.1:7545\"\n",
    "web3 = Web3(Web3.HTTPProvider(ganache_url))\n",
    "web3"
   ]
  },
  {
   "cell_type": "code",
   "execution_count": 4,
   "id": "97a093c9",
   "metadata": {},
   "outputs": [
    {
     "data": {
      "text/plain": [
       "True"
      ]
     },
     "execution_count": 4,
     "metadata": {},
     "output_type": "execute_result"
    }
   ],
   "source": [
    "web3.isConnected()"
   ]
  },
  {
   "cell_type": "code",
   "execution_count": 5,
   "id": "b5a90a73",
   "metadata": {},
   "outputs": [
    {
     "data": {
      "text/plain": [
       "6"
      ]
     },
     "execution_count": 5,
     "metadata": {},
     "output_type": "execute_result"
    }
   ],
   "source": [
    "web3.eth.blockNumber"
   ]
  },
  {
   "cell_type": "code",
   "execution_count": 6,
   "id": "3f60f712",
   "metadata": {},
   "outputs": [
    {
     "data": {
      "text/plain": [
       "'0xfe5Bb56F15de2251ed7fd6EE7E2d7D95BCc54DB6'"
      ]
     },
     "execution_count": 6,
     "metadata": {},
     "output_type": "execute_result"
    }
   ],
   "source": [
    "web3.eth.defaultAccount = web3.eth.accounts[0]\n",
    "address = web3.eth.defaultAccount\n",
    "address"
   ]
  },
  {
   "cell_type": "code",
   "execution_count": 7,
   "id": "a5c8e570",
   "metadata": {},
   "outputs": [
    {
     "data": {
      "text/plain": [
       "99992546360000000000"
      ]
     },
     "execution_count": 7,
     "metadata": {},
     "output_type": "execute_result"
    }
   ],
   "source": [
    "balance = web3.eth.getBalance(address)\n",
    "balance"
   ]
  },
  {
   "cell_type": "code",
   "execution_count": 8,
   "id": "ab620622",
   "metadata": {},
   "outputs": [
    {
     "data": {
      "text/plain": [
       "Decimal('99.99254636')"
      ]
     },
     "execution_count": 8,
     "metadata": {},
     "output_type": "execute_result"
    }
   ],
   "source": [
    "web3.fromWei(balance, 'ether')"
   ]
  }
 ],
 "metadata": {
  "kernelspec": {
   "display_name": "Python 3 (ipykernel)",
   "language": "python",
   "name": "python3"
  },
  "language_info": {
   "codemirror_mode": {
    "name": "ipython",
    "version": 3
   },
   "file_extension": ".py",
   "mimetype": "text/x-python",
   "name": "python",
   "nbconvert_exporter": "python",
   "pygments_lexer": "ipython3",
   "version": "3.10.11"
  }
 },
 "nbformat": 4,
 "nbformat_minor": 5
}
