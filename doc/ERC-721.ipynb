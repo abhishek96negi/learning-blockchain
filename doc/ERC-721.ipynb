{
 "cells": [
  {
   "cell_type": "markdown",
   "id": "2b3c9f3e",
   "metadata": {},
   "source": [
    "## What is ERC-721?\n",
    "\n",
    "The ERC-721 introduces a standard for NFT, in other words, this type of Token is unique and can have different value than another Token from the same Smart Contract, maybe due to its age, rarity or even something else like its visual. Wait, visual?\n",
    "\n",
    "Yes! All NFTs have a uint256 variable called tokenId, so for any ERC-721 Contract, the pair contract address, uint256 tokenId must be globally unique. That said, a dApp can have a \"converter\" that uses the tokenId as input and outputs an image of something cool, like zombies, weapons, skills or amazing kitties!"
   ]
  },
  {
   "cell_type": "markdown",
   "id": "783bbd83",
   "metadata": {},
   "source": [
    "The ERC-721 (Ethereum Request for Comments 721), proposed by William Entriken, Dieter Shirley, Jacob Evans, Nastassia Sachs in January 2018, is a Non-Fungible Token Standard that implements an API for tokens within Smart Contracts.\n",
    "\n",
    "It provides functionalities like to transfer tokens from one account to another, to get the current token balance of an account, to get the owner of a specific token and also the total supply of the token available on the network. Besides these it also has some other functionalities like to approve that an amount of token from an account can be moved by a third party account.\n",
    "\n",
    "If a Smart Contract implements the following methods and events it can be called an ERC-721 Non-Fungible Token Contract and, once deployed, it will be responsible to keep track of the created tokens on Ethereum."
   ]
  },
  {
   "cell_type": "markdown",
   "id": "9f6823ad",
   "metadata": {},
   "source": [
    "The following are the set of functions and events defined in the ERC-721 standard:\n",
    "\n",
    "ERC-721 defines some functions with compliance to ERC-20. This makes it easier for existing wallets to display simple token information."
   ]
  },
  {
   "cell_type": "markdown",
   "id": "6a12e751",
   "metadata": {},
   "source": [
    "pragma solidity ^0.4.20;\n",
    "\n",
    "/// @title ERC-721 Non-Fungible Token Standard\n",
    "\n",
    "/// @dev See https://eips.ethereum.org/EIPS/eip-721\n",
    "\n",
    "///  Note: the ERC-165 identifier for this interface is 0x80ac58cd.\n",
    "\n",
    "interface ERC721{\n",
    "    **Events**\n",
    "    \n",
    "    /// @dev This emits when ownership of any NFT changes by any mechanism.\n",
    "    ///  This event emits when NFTs are created (`from` == 0) and destroyed\n",
    "    ///  (`to` == 0). Exception: during contract creation, any number of NFTs\n",
    "    ///  may be created and assigned without emitting Transfer. At the time of\n",
    "    ///  any transfer, the approved address for that NFT (if any) is reset to none.\n",
    "    event Transfer(address indexed _from, address indexed _to, uint256 indexed _tokenId);\n",
    "\n",
    "    /// @dev This emits when the approved address for an NFT is changed or\n",
    "    ///  reaffirmed. The zero address indicates there is no approved address.\n",
    "    ///  When a Transfer event emits, this also indicates that the approved\n",
    "    ///  address for that NFT (if any) is reset to none.\n",
    "    event Approval(address indexed _owner, address indexed _approved, uint256 indexed _tokenId);\n",
    "\n",
    "    /// @dev This emits when an operator is enabled or disabled for an owner.\n",
    "    ///  The operator can manage all NFTs of the owner.\n",
    "    event ApprovalForAll(address indexed _owner, address indexed _operator, bool _approved);\n",
    "    \n",
    "   **Methods**\n",
    "    \n",
    "    /// @notice Count all NFTs assigned to an owner\n",
    "    /// @dev NFTs assigned to the zero address are considered invalid, and this\n",
    "    ///  function throws for queries about the zero address.\n",
    "    /// @param _owner An address for whom to query the balance\n",
    "    /// @return The number of NFTs owned by `_owner`, possibly zero\n",
    "    function balanceOf(address _owner) external view returns (uint256);\n",
    "\n",
    "    /// @notice Find the owner of an NFT\n",
    "    /// @dev NFTs assigned to zero address are considered invalid, and queries\n",
    "    ///  about them do throw.\n",
    "    /// @param _tokenId The identifier for an NFT\n",
    "    /// @return The address of the owner of the NFT\n",
    "    function ownerOf(uint256 _tokenId) external view returns (address);\n",
    "\n",
    "    /// @notice Transfers the ownership of an NFT from one address to another address\n",
    "    /// @dev Throws unless `msg.sender` is the current owner, an authorized\n",
    "    ///  operator, or the approved address for this NFT. Throws if `_from` is\n",
    "    ///  not the current owner. Throws if `_to` is the zero address. Throws if\n",
    "    ///  `_tokenId` is not a valid NFT. When transfer is complete, this function\n",
    "    ///  checks if `_to` is a smart contract (code size > 0). If so, it calls\n",
    "    ///  `onERC721Received` on `_to` and throws if the return value is not\n",
    "    ///  `bytes4(keccak256(\"onERC721Received(address,address,uint256,bytes)\"))`.\n",
    "    /// @param _from The current owner of the NFT\n",
    "    /// @param _to The new owner\n",
    "    /// @param _tokenId The NFT to transfer\n",
    "    /// @param data Additional data with no specified format, sent in call to `_to`\n",
    "    function safeTransferFrom(address _from, address _to, uint256 _tokenId, bytes data) external payable;\n",
    "\n",
    "    /// @notice Transfers the ownership of an NFT from one address to another address\n",
    "    /// @dev This works identically to the other function with an extra data parameter,\n",
    "    ///  except this function just sets data to \"\".\n",
    "    /// @param _from The current owner of the NFT\n",
    "    /// @param _to The new owner\n",
    "    /// @param _tokenId The NFT to transfer\n",
    "    function safeTransferFrom(address _from, address _to, uint256 _tokenId) external payable;\n",
    "\n",
    "    /// @notice Transfer ownership of an NFT -- THE CALLER IS RESPONSIBLE\n",
    "    ///  TO CONFIRM THAT `_to` IS CAPABLE OF RECEIVING NFTS OR ELSE\n",
    "    ///  THEY MAY BE PERMANENTLY LOST\n",
    "    /// @dev Throws unless `msg.sender` is the current owner, an authorized\n",
    "    ///  operator, or the approved address for this NFT. Throws if `_from` is\n",
    "    ///  not the current owner. Throws if `_to` is the zero address. Throws if\n",
    "    ///  `_tokenId` is not a valid NFT.\n",
    "    /// @param _from The current owner of the NFT\n",
    "    /// @param _to The new owner\n",
    "    /// @param _tokenId The NFT to transfer\n",
    "    function transferFrom(address _from, address _to, uint256 _tokenId) external payable;\n",
    "\n",
    "    /// @notice Change or reaffirm the approved address for an NFT\n",
    "    /// @dev The zero address indicates there is no approved address.\n",
    "    ///  Throws unless `msg.sender` is the current NFT owner, or an authorized\n",
    "    ///  operator of the current owner.\n",
    "    /// @param _approved The new approved NFT controller\n",
    "    /// @param _tokenId The NFT to approve\n",
    "    function approve(address _approved, uint256 _tokenId) external payable;\n",
    "\n",
    "    /// @notice Enable or disable approval for a third party (\"operator\") to manage\n",
    "    ///  all of `msg.sender`'s assets\n",
    "    /// @dev Emits the ApprovalForAll event. The contract MUST allow\n",
    "    ///  multiple operators per owner.\n",
    "    /// @param _operator Address to add to the set of authorized operators\n",
    "    /// @param _approved True if the operator is approved, false to revoke approval\n",
    "    function setApprovalForAll(address _operator, bool _approved) external;\n",
    "\n",
    "    /// @notice Get the approved address for a single NFT\n",
    "    /// @dev Throws if `_tokenId` is not a valid NFT.\n",
    "    /// @param _tokenId The NFT to find the approved address for\n",
    "    /// @return The approved address for this NFT, or the zero address if there is none\n",
    "    function getApproved(uint256 _tokenId) external view returns (address);\n",
    "\n",
    "    /// @notice Query if an address is an authorized operator for another address\n",
    "    /// @param _owner The address that owns the NFTs\n",
    "    /// @param _operator The address that acts on behalf of the owner\n",
    "    /// @return True if `_operator` is an approved operator for `_owner`, false otherwise\n",
    "    function isApprovedForAll(address _owner, address _operator) external view returns (bool);\n",
    "}"
   ]
  },
  {
   "cell_type": "markdown",
   "id": "0429b1c9",
   "metadata": {},
   "source": [
    "### ERC20-like Functions:\n",
    "\n",
    "* **name:** Used to define the token’s name, which other contracts and applications can identify.\n",
    "* **symbol:** Used to define token’s shorthand name or symbol.\n",
    "* **totalSupply:** This function is used to define the total number of tokens on the blockchain; the supply doesn’t have to be constant.\n",
    "* **balanceOf:** Returns number of NFTs owned by an address."
   ]
  },
  {
   "cell_type": "markdown",
   "id": "3d1c6ce2",
   "metadata": {},
   "source": [
    "### Ownership Functions\n",
    "\n",
    "* **ownerOf:** This function returns the address of the owner of a token. As each ERC-721 token is unique and non-fungible, they are represented on the blockchain by an ID. Other users, contracts, apps can use this ID to determine the owner of the token.\n",
    "* **approve:** This function grants or approves another entity the permission to transfer tokens on the owner’s behalf.\n",
    "* **takeOwnership:** This is an optional function that acts like a withdraw function since an outside party can call it to take tokens out of another user’s account. Therefore, takeOwnership can be used when a user has been approved to own a certain amount of tokens and wishes to withdraw said tokens from another user’s balance.\n",
    "* **transfer:** This is another type of transfer function; it allows the owner to transfer the token to another user, just like other digital tokens/coins.\n",
    "* **tokenOfOwnerByIndex:** This is an optional but recommended function. Each owner can own more than one NFT at the same time. Its unique ID identifies every NFT, and eventually, it can become difficult to keep track of IDs. So the contract stores these IDs in an array and the tokenOfOwnerByIndex function lets us retrieve this information from the array."
   ]
  },
  {
   "cell_type": "markdown",
   "id": "27e234c4",
   "metadata": {},
   "source": [
    "### Metadata Function\n",
    "\n",
    "* **tokenMetadata:** This optional feature is an interface that lets us discover a token’s metadata or a link to its data."
   ]
  },
  {
   "cell_type": "markdown",
   "id": "aaeff719",
   "metadata": {},
   "source": [
    "### Events\n",
    "\n",
    "* **Transfer:** This event is fired when the ownership of the token changes from one individual to another. It emits the information on which account transferred the token, which account received the token, and which token (by ID) was transferred.\n",
    "* **Approve:** This event is fired when a user approves another user to take ownership of the token, i.e., it is fired whenever approve function is executed. It emits the information on which account currently owns the token, which account is approved to take ownership of the token in the future, and which token (by ID) is approved to have its ownership transferred."
   ]
  },
  {
   "cell_type": "markdown",
   "id": "d6fcf029",
   "metadata": {},
   "source": [
    "### Use cases of Non-Fungible Tokens (NFTs):\n",
    "Digital art (or physical art): Art pieces are the most popular use cases of NFTs. Digital art auctions were the first application of NFTs and continue to grow.\n",
    "\n",
    "* **Gaming:** Providing in-game purchases and collectibles of games.\n",
    "* **Real estate:** Tokenizing properties and smart contracts and carry buying and selling.\n",
    "* **Finance:** Financial instruments like loans, futures, and other responsibilities. \n",
    "* **Software titles:** Software licenses to ensure anti-piracy and privacy.\n",
    "* **Concert tickets/Sports match tickets:** To ensure that no fraud happens in ticket selling and fans can have a single place to view past experiences.\n",
    "* **KYC compliance:** Creating a token for a specific user’s KYC."
   ]
  },
  {
   "cell_type": "code",
   "execution_count": null,
   "id": "2edd5312",
   "metadata": {},
   "outputs": [],
   "source": [
    "// SPDX-License-Identifier: MIT\n",
    "pragma solidity 0.8.0;\n",
    " \n",
    "import \"https://github.com/0xcert/ethereum-erc721/src/contracts/tokens/nf-token-metadata.sol\";\n",
    "import \"https://github.com/0xcert/ethereum-erc721/src/contracts/ownership/ownable.sol\";\n",
    " \n",
    "contract newNFT is NFTokenMetadata, Ownable {\n",
    " \n",
    "  constructor() {\n",
    "    nftName = \"CoolBitcoin\";\n",
    "    nftSymbol = \"CBTC\";\n",
    "  }\n",
    " \n",
    "  function mint(address _to, uint256 _tokenId, string calldata _uri) external onlyOwner {\n",
    "    super._mint(_to, _tokenId);\n",
    "    super._setTokenUri(_tokenId, _uri);\n",
    "  }\n",
    " \n",
    "}"
   ]
  },
  {
   "cell_type": "markdown",
   "id": "dba2fb50",
   "metadata": {},
   "source": [
    "### Explanation of the code above: \n",
    " \n",
    "* **Line 1:** Specifying SPDX license type, which is an addition after Solidity ^0.6.8. Whenever the source code of a smart contract is made available to the public, these licenses can help resolve/avoid copyright issues. If you do not wish to specify any license type, you can use a special value UNLICENSED or simply skip the whole comment (it won’t result in an error, just a warning).\n",
    " \n",
    "* **Line 2:** Declaring the solidity version.\n",
    "* **Line 4-5:** Importing 0xcert/ethereum-erc721 contracts.\n",
    "* **Line 7:** Starting our Contract named newNFT and mentioning it’s extending NFTokenMetadata and Ownable contracts.\n",
    "* **Line 9-12:** Initializing the constructor and setting name, a symbol of our token.\n",
    "* **Line 14:** Declaring function mint with three arguments, variable _to of type address which will store the address of the receiver of NFT token, variable _tokenId of uint256 type which will hold the token id, variable _uri of type string which will store the URI of the JSON file. Declaring mint as external means, it can be accessed from other smart contracts and outside the self scope.\n",
    "* **Line 15:** Minting token using the address of the receiver and token id.\n",
    "* **Line 16:** Setting token URI using token id and URI of JSON file.\n",
    "\n",
    "Compile the smart-contract and deploy it."
   ]
  },
  {
   "cell_type": "markdown",
   "id": "31f86a02",
   "metadata": {},
   "source": [
    "## POPULAR NFTS\n",
    "* **Etherscan NFT Tracker** list the top NFT on Ethereum by transfers volume.\n",
    "* **CryptoKitties**** is a game centered around breedable, collectible, and oh-so-adorable creatures we call CryptoKitties.\n",
    "* **Sorare** is a global fantasy football game where you can collect limited editions collectibles, manage your teams and compete to earn prizes.\n",
    "* **The Ethereum Name Service (ENS)** offers a secure & decentralised way to address resources both on and off the blockchain using simple, human-readable names.\n",
    "* **POAP** delivers free NFTs to people who attend events or complete specific actions. POAPs are free to create and distribute.\n",
    "* **Unstoppable Domains** is a San Francisco-based company building domains on blockchains. Blockchain domains replace cryptocurrency addresses with human-readable names and can be used to enable censorship-resistant websites.\n",
    "* **Gods Unchained Cards** is a TCG on the Ethereum blockchain that uses NFT's to bring real ownership to in-game assets.\n",
    "* **Bored Ape Yacht Club** is a collection of 10,000 unique NFTs, which, as well as being a provably-rare piece of art, acts as a membership token to the club, providing member perks and benefits that increase over time as a result of community efforts."
   ]
  },
  {
   "cell_type": "markdown",
   "id": "3b16d9fc",
   "metadata": {},
   "source": [
    "![ercvserc721](../static/image/erc721/ERC_20vsERC_721.png)"
   ]
  }
 ],
 "metadata": {
  "kernelspec": {
   "display_name": "Python 3 (ipykernel)",
   "language": "python",
   "name": "python3"
  },
  "language_info": {
   "codemirror_mode": {
    "name": "ipython",
    "version": 3
   },
   "file_extension": ".py",
   "mimetype": "text/x-python",
   "name": "python",
   "nbconvert_exporter": "python",
   "pygments_lexer": "ipython3",
   "version": "3.10.11"
  }
 },
 "nbformat": 4,
 "nbformat_minor": 5
}
