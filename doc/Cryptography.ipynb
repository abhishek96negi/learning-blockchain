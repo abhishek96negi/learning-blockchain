{
 "cells": [
  {
   "cell_type": "markdown",
   "id": "a2a74c67",
   "metadata": {},
   "source": [
    "## Types of Cryptography\n",
    "\n",
    "**Symmetric Key Cryptography**\n",
    "\n",
    "Symmetric key cryptography is a type of encryption scheme in which the similar key is used both to encrypt and decrypt messages. Such an approach of encoding data has been largely used in the previous decades to facilitate secret communication between governments and militaries.\n",
    "\n",
    "Symmetric-key cryptography is called a shared-key, secret-key, single-key, one-key and eventually private-key cryptography. With this form of cryptography, it is clear that the key should be known to both the sender and the receiver that the shared. The complexity with this approach is the distribution of the key.\n",
    "\n",
    "Symmetric key cryptography schemes are usually categorized such as stream ciphers or block ciphers. Stream ciphers work on a single bit (byte or computer word) at a time and execute some form of feedback structure so that the key is repeatedly changing.\n",
    "\n",
    "![crypto1.png](../static/image/cryptography/crypto1.png)\n",
    "\n",
    "**Asymmetric Key Cryptography**\n",
    "\n",
    "* Private Key\n",
    "* Public Key\n",
    "\n",
    "![crypto2.png](../static/image/cryptography/crypto2.png)\n",
    "\n",
    "If you want to encrypt and decrypt the message you have to use both the key (Public and private) not one.\n",
    "\n",
    "![crypto3.png](../static/image/cryptography/crypto3.png)\n",
    "\n",
    "\n",
    "If 'A' want to send a message to 'B' as we know the public key of is known to everyone. So, 'A' will also know the public key of B then A will encrypt the message with B's public key and then that message goes to 'B' of course everyone else on the network can see the encrypted message but no one can decrypt it because that message will be decrypted only with B's private key and who has B's private key of course only 'B' known. \n",
    "\n",
    "![crypto4.png](../static/image/cryptography/crypto4.png)"
   ]
  },
  {
   "cell_type": "markdown",
   "id": "c17524d0",
   "metadata": {},
   "source": [
    "## Digital Signature\n",
    "\n",
    "Let's imagine we have two keys. Everyone will have two keys (Public and Private key). If i want to send a message so let's say 'A' want to send a message to 'B' and the message is \"let's meet at 6 pm\" Now before sending that message what if 'A' encrypt the message with the help of 'A' private key and then this message goes to the 'B' and 'B' is able to decrypt it with 'A' public key but 'A' public key will be available to everyone. That's the case we are not trying to achieve confidentiality here we are trying to achieve signature. The moment 'A' is able to sign the message by his own private key and decrypted by 'A' public key on the \"B's\" end. Now 'B' sure that this message is coming from 'A' because this message was able to decrypt with the help of 'A' public key. Now we have achieved Authentication.\n",
    "\n",
    "![digsig1.png](../static/image/digital_signature/digsig1.png)\n",
    "\n",
    "But then we are losing the confidentiality. How can we achieve that? \n",
    "\n",
    "So, what we normally do is from the 'A' itself so before sending the message 'A' first will encrypt the message using \"A's\" private key and then the same packet will be again encrypted with the help of 'B' public key. So, we have double encryption (Reusing 'B' public key and 'A' Priavte key) well 'B' received that package it will first decrypt the  message with the help of 'B' private key and then it will again decrypt the message using 'A' public key and that's done. we got a message\n",
    "\n",
    "![digsig2.png](../static/image/digital_signature/digsig2.png)\n",
    "\n",
    "So we have achieved two things here Confidentiality and Authenticated"
   ]
  }
 ],
 "metadata": {
  "kernelspec": {
   "display_name": "Python 3 (ipykernel)",
   "language": "python",
   "name": "python3"
  },
  "language_info": {
   "codemirror_mode": {
    "name": "ipython",
    "version": 3
   },
   "file_extension": ".py",
   "mimetype": "text/x-python",
   "name": "python",
   "nbconvert_exporter": "python",
   "pygments_lexer": "ipython3",
   "version": "3.10.11"
  }
 },
 "nbformat": 4,
 "nbformat_minor": 5
}
