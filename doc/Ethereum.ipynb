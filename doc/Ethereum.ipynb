{
 "cells": [
  {
   "cell_type": "markdown",
   "id": "534b01f0",
   "metadata": {},
   "source": [
    "# Ethereum\n",
    "\n",
    "Ethereum is an open source, distributed software platform that is based on blockchain technology. It has its own native cryptocurrency called Ether and a programming language called Solidity. Blockchain is a distributed ledger technology that keeps a permanent, tamper-proof list of records. Ethereum is Bitcoin's main competitor.\n",
    "\n",
    "Ethereum enables developers to build decentralized applications. Miners produce Ether tokens that can be used as a currency and to pay for usage fees on the Ethereum network. The platform also supports smart contracts, which are a type of digital contract.\n",
    "\n",
    "![eth1.png](../static/image/ethereum/eth1.png)\n",
    "\n",
    "![eth2.png](../static/image/ethereum/eth2.png)\n",
    "\n",
    "## How does Ethereum work?\n",
    "Ethereum uses a blockchain network. The network is made up of nodes -- computers of volunteers who mine for the coin. The nodes produce the Ether tokens, and mining creates the cryptography upon which the currency is based. Because mining is a demanding use of a computer's resources, miners are rewarded with Ether.\n",
    "\n",
    "The Ethereum platform offers the computationally complete Ethereum Virtual Machine (EVM). EVM executes scripts worldwide across its network of distributed public nodes. These nodes provide the processing power for decentralized applications developers create to run on the network. Developers may buy Ether to pay for the use of the network, or they can mine for the tokens themselves, becoming a part of the network. An internal mechanism called Gas sets the pricing of transactions on the network.\n",
    "\n",
    "Smart contracts are carried across the network in the same blockchain that records the ledger of transactions for the Ether cryptocurrency. These digital contracts can have conditions that run on scripts until fulfilled. Ethereum has built-in mechanisms to detect when an agreement is not met. Smart contracts can be used to exchange things such as properties, money and stocks on the back of an Ether token."
   ]
  },
  {
   "cell_type": "markdown",
   "id": "9fa14234",
   "metadata": {},
   "source": [
    "## Ethereum and Ether: What is the difference?\n",
    "Ethereum is a blockchain-based network. It is a platform that developers can use to build applications and program the smart contracts on which virtual currency is based. Like blockchain, it can be used for many different types of applications, including a number of financial uses.\n",
    "\n",
    "Ether (ETH) is Ethereum's native cryptocurrency. It is bought and sold using the Ethereum platform. It is one of many cryptocurrencies that can be traded using the Ethereum network. It is also used to reward miners when they add blocks to a blockchain.\n",
    "\n",
    "Ether supports the Ethereum network; it pays for computational services and applications built on the platform. It is described as the fuel that Ethereum runs on.\n",
    "\n",
    "For example, an application running on Ethereum requires resources to function. Developers use Ether tokens to fund an application and support it on the network.\n",
    "\n",
    "### Ethereum applications and use cases\n",
    "According to the Ethereum Foundation, Ethereum can be applied to codifying, decentralizing, securing and trading almost everything. Its uses include the following:\n",
    "\n",
    "* crowdfunding\n",
    "* financial exchanges\n",
    "* company governance\n",
    "* domain names\n",
    "* intellectual property\n",
    "* smart property with hardware integration\n",
    "* voting\n",
    "* contracts and agreements\n"
   ]
  },
  {
   "cell_type": "markdown",
   "id": "29f5c56c",
   "metadata": {},
   "source": [
    "### Benefits of Ethereum\n",
    "Many benefits of blockchain technology apply to Ethereum, including the following:\n",
    "\n",
    "**Decentralization.** Ethereum is decentralized, so there is no interference from third-party cloud providers. It uses blockchain, which enables peer-to-peer transactions. Users can exchange value or store data without the need for an intermediary unlike some other software applications, which often require trust in a central authority.\n",
    "\n",
    "**Availability.** Because Ethereum is decentralized, there is no downtime if a node goes down. Other computing models use centralized servers and can suffer performance issues if interrupted.\n",
    "\n",
    "**Privacy.** When using the network for exchanges, users can remain anonymous. They do not need to enter their personal credentials to use an Ethereum application.\n",
    "\n",
    "**Security.** Like any decentralized blockchain-based network, Ethereum is designed to be unhackable. Hackers would have to control most of the network nodes to exploit the network.\n",
    "\n",
    "**Permissionless.** Ethereum is a permissionless blockchain, meaning that everyone can participate. This contrasts with permissioned blockchains, which are limited to designated participants.\n",
    "\n",
    "**Less ambiguity.** The hardcoded smart contracts that serve as the basis for trade and agreement on Ethereum ensure stronger contracts. For example, a freelancer that gets work through a dApp on Ethereum could enter into a smart contract with a hardcoded rule that states, \"X compensation will be released when Y work is completed.\" This differs from normal contracts, which require interpretation and follow-through."
   ]
  },
  {
   "cell_type": "markdown",
   "id": "7de9ac58",
   "metadata": {},
   "source": [
    "## Drawbacks of Ethereum\n",
    "Two criticisms of the Ethereum platform are the following:\n",
    "\n",
    "**Resource-intensive.** Ethereum's current use of the PoW consensus protocol is an energy-intensive way to ensure the nodes of the networks agree on the state of all information recorded on the blockchain. All smart contracts are stored on all of the nodes of the blockchain, and each node calculates every smart contract simultaneously.\n",
    "\n",
    "**Security.** The PoW protocol also raises a security issue. Vulnerabilities in smart contracts on the public blockchain are visible to all and may take longer to fix than to exploit."
   ]
  },
  {
   "cell_type": "markdown",
   "id": "51e9436b",
   "metadata": {},
   "source": [
    "# An Ethereum Network\n",
    "\n",
    "![eth](../static/image/ethereum/ether.png)\n",
    "\n",
    "* Ethereum networks are used to transfer money and store data.\n",
    "* There are many different Ethereum networks.\n",
    "* Networks are formed by one or more nodes.\n",
    "* Each node is a machine running an ethereum client.\n",
    "* Anyone can run a node.\n",
    "* Each node can contain a full copy of the blockchain.\n",
    "* The 'blockchain' is a database that stores a record of every transaction that has ever taken place.\n",
    "\n",
    "![eth1](../static/image/ethereum/ether1.png)\n",
    "\n",
    "![eth2](../static/image/ethereum/ether2.png)\n",
    "\n",
    "![eth3](../static/image/ethereum/ether3.png)\n",
    "\n",
    "![eth4](../static/image/ethereum/ether4.png)\n",
    "\n",
    "![eth5](../static/image/ethereum/ether5.png)\n",
    "\n",
    "![eth6](../static/image/ethereum/ether6.png)"
   ]
  }
 ],
 "metadata": {
  "kernelspec": {
   "display_name": "Python 3 (ipykernel)",
   "language": "python",
   "name": "python3"
  },
  "language_info": {
   "codemirror_mode": {
    "name": "ipython",
    "version": 3
   },
   "file_extension": ".py",
   "mimetype": "text/x-python",
   "name": "python",
   "nbconvert_exporter": "python",
   "pygments_lexer": "ipython3",
   "version": "3.10.11"
  }
 },
 "nbformat": 4,
 "nbformat_minor": 5
}
