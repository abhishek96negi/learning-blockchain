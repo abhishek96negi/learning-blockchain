{
 "cells": [
  {
   "cell_type": "markdown",
   "id": "c20dedc4",
   "metadata": {},
   "source": [
    "## What is a Token?\n",
    "\n",
    "Tokens can represent virtually anything in Ethereum:\n",
    "\n",
    "* reputation points in an online platform\n",
    "* skills of a character in a game\n",
    "* lottery tickets\n",
    "* financial assets like a share in a company\n",
    "* a fiat currency like USD\n",
    "* an ounce of gold"
   ]
  },
  {
   "cell_type": "markdown",
   "id": "82943bb2",
   "metadata": {},
   "source": [
    "In a blockchain, fungible tokens are cryptocurrencies like Bitcoin (BTC). Nonfungible tokens are units of data that represent a unique digital asset stored and verified on the blockchain.\n",
    "\n",
    "Fungible tokens or assets are divisible and non-unique. For instance, fiat currencies like the dollar are fungible: A  1 usd bill in New York City has the same value as a 1 usd bill in Miami. A fungible token can also be a cryptocurrency like Bitcoin: 1 BTC is worth 1 BTC, no matter where it is issued. \n",
    "\n",
    "Nonfungible assets, on the other hand, are unique and non-divisible. They should be considered as a type of deed or title of ownership of a unique, non-replicable item. For example, a flight ticket is nonfungible because there cannot be another of the same kind due to its specific data. A house, a boat or a car are nonfungible physical assets because they are one-of-a-kind\n",
    "\n",
    "The same applies to nonfungible tokens, which represent one unique and indivisible item — physical or intangible — like a picture or intellectual property. Blockchain is the underlying technology that can easily prove ownership of an intangible digital item.\n",
    "\n",
    "The main difference between fungible assets and nonfungible assets resides in the content they store. While fungible tokens like Bitcoin store value, nonfungible tokens store data like an academic title or an artwork."
   ]
  },
  {
   "cell_type": "markdown",
   "id": "97d84f72",
   "metadata": {},
   "source": [
    "![Fungible](../static/image/token/fungible.png)"
   ]
  },
  {
   "cell_type": "markdown",
   "id": "58b0347d",
   "metadata": {},
   "source": [
    "## What are fungible and nonfungible tokens in a blockchain?\n",
    "\n",
    "Tokens in a blockchain are typically referred to as crypto tokens and represent digital units of value developed on existing blockchain networks. Businesses build their token on a blockchain to serve purposes that include transferring value, giving access to a subscription and even voting.\n",
    "\n",
    "The first fungible tokens were developed on the Ethereum blockchain and are identified as ERC-20. They set the standards that allow developers to build applications of different natures.\n",
    "\n",
    "The initial coin offerings era, which boosted an industry worth nearly 15B usd between 2016 and 2018, built its fortunes on ERC-20 tokens.\n",
    "\n",
    "Nonfungible tokens have been around since 2012 when the concept of colored coins first emerged within the Bitcoin blockchain. Instead of building other blockchains as sidechains, colored coins allow the attaching of metadata — further information about the specific data used — to Bitcoin transactions.\n",
    "\n",
    "Colored coins may represent real-world assets traded on the Bitcoin blockchain; however, they are tied to a contract outside the blockchain and must be based on trust. A group must agree that a certain amount of these coins represent another value altogether. In that case, they can potentially use these “designated” coins to transact in that value.\n",
    "\n",
    "The digital tokens used are satoshis, tiny fractions of a Bitcoin, marked or “colored in” with the information linking the coins to real-world assets. \n",
    "\n",
    "Colored coins did not find much application in the cryptocurrency industry. They mainly were used to create and trade artworks like “Rare Pepe” digital cards on Counterparty, a peer-to-peer trading platform built on top of Bitcoin’s blockchain.\n",
    "\n",
    "The first nonfungible tokens were also developed on the Ethereum blockchain and used to identify a product, service, or person uniquely. \n",
    "\n",
    "Some NFTs are built on the Tron and EOS blockchains, which host voting tokens. The possible applications are infinite for this type of token, from collectible items like artworks and musical creations to lottery tickets to concert and sporting event seats. \n",
    "\n",
    "NFTs can even be marketplaces for storing academic titles and digital identities on the blockchain since they’re easily traceable and verifiable. \n",
    "\n",
    "There’s a misconception surrounding NFTs: their perception solely as artworks after their incredible market growth in 2020 and 2021. However, NFTs had a significant application within the gaming industry long before the arts became involved.\n",
    "\n",
    "CryptoKitties appeared on the Ethereum blockchain as early as 2017. The game represented the first real-world use case for NFTs in the crypto space, and it eventually became the most prominent decentralized application on the Ethereum protocol.\n",
    "\n",
    "Within the Ethereum blockchain, NFTs are identified with a different standard than the ERC-20, the ERC-721.\n",
    "\n",
    "## How do NFTs work, and how do you create one?\n",
    "\n",
    "Nonfungible tokens can be created and stored in a public blockchain that is open and accessible to anyone. The items they represent are verifiable and traceable, while the owner can remain anonymous. From a technical perspective, NFTs are minted through smart contracts that assign ownership and manage the transferability of the NFTs. The minting process includes a few steps, from creating a new block to validating and recording the data on the blockchain.\n",
    "\n",
    "Further information on how to create a nonfungible token is available here.\n",
    "\n",
    "## How to buy or sell a nonfungible token \n",
    "\n",
    "NFTs can be bought or sold online and represent digital proof of ownership of any given item. Transactions can occur in cryptocurrency exchanges or in online marketplaces like Rarible, Nifty Gateway or OpenSea, to name a few. Like on eBay, an item can be sold at a fixed price decided by the owner or by bidding through an auction. \n",
    "\n",
    "The first step is to buy a cryptocurrency like Ether and sign up for one of the available platforms. The user must then transfer that cryptocurrency to a crypto wallet compatible with the tokens. MetaMask, Trust Wallet or Coinbase Wallet are all compatible with ERC-721 tokens. Other blockchains that allow NFT transactions include Binance Smart Chain, Tezos, Polkadot, EOS and Tron. However, users must make sure that their selected collectible platform is compatible with their chosen blockchain. Once the wallet is connected to the platform, you can upload an image or file containing the NFT.\n",
    "\n",
    "Platforms like MakersPlace also allow users to create NFTs. Still, they have to first register and become a listed artist before they can work on it.\n",
    "\n",
    "Celebrities like Grimes, Paris Hilton and Snoop Dogg have all contributed to the fame of NFTs, by publicly announcing their involvement in the space.\n",
    "\n",
    "## What are the pros and cons of using nonfungible tokens?\n",
    "\n",
    "**Pros**\n",
    "\n",
    "NFTs allow artists to claim royalties on future proceeds after their artwork sells for the first time. The possibility to claim such future gains represents a breakthrough in the art world and has encouraged many artists to turn to this new digital marketplace.\n",
    "\n",
    "All users have to do is activate a specific function on the blockchain. The procedure allows a profit percentage to be paid to the artwork’s creator every time the NFT is sold or changes ownership.\n",
    "\n",
    "For the first time, with blockchain technology, artists and content creators have the opportunity to monetize their production, and they can do it without the assistance of a third party like an agent. Physical galleries and auctions are also removed from the equation, allowing artists to turn to the digital world for more accessible and smoother transactions.\n",
    "\n",
    "**Cons**\n",
    "\n",
    "Just like a photograph can be replicated, digital photos can also be copied with the downloaded duplicate looking identical to the original. The possibility to create infinite reproductions of artworks has sparked confusion and skepticism in the audience of artistic scenes. Suppose people can download thousands of copies from the original; what is the point of paying high amounts for the original?\n",
    "\n",
    "From a closer perspective, it becomes clear that digital artworks are precisely like traditional art masterpieces. Someone can reproduce unlimited copies of the Mona Lisa, but only one remains the original. \n",
    "\n",
    "The question is, what then grants ownership of the original asset in the crypto world? \n",
    "\n",
    "The nonfungible token, a cryptographic digital signature, assigns ownership of the original piece to someone. Ownership of the work can be verified and transferred on a blockchain. \n",
    "\n",
    "## The future of NFTs\n",
    "As the world becomes increasingly digitized, NFTs can represent a viable solution for tokenizing ownership and property. Both fungible and nonfungible tokens allow proper digitization and storage of real-world assets while keeping them safe at the same time. \n",
    "\n",
    "In the first half of 2021, the NFT market hit 2.5 billion usd in value. It should not come as a surprise, considering the exorbitant selling price of some of the artworks. Digital artist Beeple sold “Everydays: the First 5000 Days” for 69.3 million usd through a Christie’s auction. Meanwhile, Twitter CEO Jack Dorsey auctioned an NFT of his first tweet, which sold for 2.9 million usd. \n",
    "\n",
    "NFTs are set to revolutionize multiple digital markets and will facilitate transactions and improve interactions between people.\n",
    "\n",
    "However, as collectibles, NFTs are investments based on demand rather than fundamentals. Assets like Bitcoin or Ether base their value on technological innovations and economic adoption, offering more robust fundamentals to the shrewd investor. \n",
    "\n",
    "On the other hand, people’s interest in the sector and how much they are willing to pay for an NFT drive the price of an asset, ultimately determining the future of the entire market."
   ]
  }
 ],
 "metadata": {
  "kernelspec": {
   "display_name": "Python 3 (ipykernel)",
   "language": "python",
   "name": "python3"
  },
  "language_info": {
   "codemirror_mode": {
    "name": "ipython",
    "version": 3
   },
   "file_extension": ".py",
   "mimetype": "text/x-python",
   "name": "python",
   "nbconvert_exporter": "python",
   "pygments_lexer": "ipython3",
   "version": "3.10.11"
  }
 },
 "nbformat": 4,
 "nbformat_minor": 5
}
