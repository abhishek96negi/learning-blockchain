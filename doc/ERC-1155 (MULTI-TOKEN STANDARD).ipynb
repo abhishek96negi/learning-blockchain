{
 "cells": [
  {
   "cell_type": "markdown",
   "id": "e4dfc4b0",
   "metadata": {},
   "source": [
    "# What is ERC1155? \n",
    "\n",
    "ERC1155 is a multi-token standard that allows the creation of fungible, non-fungible, and semi-fungible tokens all in one contract. Before ERC1155, if a use case needed both ERC20 (fungible) and ERC721 (non-fungible) tokens, then separate contracts were required to achieve this. ERC1155 also allows for multiple NFT collections to be launched in just one smart contract instead of creating a different contract for each collection; this increases efficiency in smart contract construction and minimizes the transaction count, which is very important as it consumes less blockchain space. With ERC1155, batch transfer of tokens is also possible instead of transferring a token to a single address in previous standards.\n",
    "\n",
    "A prevalent example of the ERC1155 application is blockchain-based decentralized games, as games need coins and collectibles, so ERC1155 has become a standard there. ERC1155 has also become a standard in the NFT space.\n",
    "\n",
    "The previous ERC721 had a one-to-one mapping of token id with the address. ERC1155 has a rather complex mapping where the address in a combination of token id is mapped to the balance of the token.\n",
    "\n",
    "ERC1155 is a novel token standard that aims to take the best from previous standards to create a fungibility-agnostic and gas-efficient token contract.\n",
    "\n",
    "ERC1155 is more than just an NFT token standard. It sets the stage for multi-token management and transactions. With ERC1155, single deployed contracts can include varied combinations of non-fungible, fungible, and semi-fungible tokens. \n",
    "\n",
    "Originated by the Enjin team, this ERC1155 token standard drew ideas from token standards like ERC20 and ERC721 token. It also introduced improvements of its own. Previously, under ERC-20 or ERC-721, you had to deploy a separate contract for each fungible or non-fungible token. This causes Ethereum’s blockchain to be riddled with redundant bytecode. Also, by separating each contract into individual addresses, the older standards limited certain functionalities. \n",
    "\n",
    "A standard interface for contracts that manage multiple token types. A single deployed contract may include any combination of fungible tokens, non-fungible tokens or other configurations (e.g. semi-fungible tokens).\n",
    "\n",
    "The token ERC-1155, is a new type of standard token within Ethereum with the ability to change the landscape of DApps within this blockchain, thanks to its multi-token capacity and a new number of functions designed to provide a better user and programming experience.\n",
    "\n",
    "Like the standards ERC-20 and ERC-721 Of which we have already discussed, ERC-1155 is a basic formulation designed to create useful tokens that make life easier for developers, all while offering them a powerful and dynamic tool to work with."
   ]
  },
  {
   "cell_type": "markdown",
   "id": "94f967c2",
   "metadata": {},
   "source": [
    "# Multi Token Standard\n",
    "\n",
    "**The ERC-1155 token is a type of standard token that has the ability to store, under its control, tokens that can act as if they were a token. ERC-20 or ERC-721, or both at the same time under the same address.**\n",
    "\n",
    "The idea is simple and seeks to create a smart contract interface that can represent and control any number of fungible and non-fungible token types. In this way, the ERC-1155 token can do the same functions as an ERC-20 and ERC-721 token, and even both at the same time. And best of all, improving the functionality of both standards, making it more efficient, and correcting obvious implementation errors on the ERC-20 and ERC-721 standards.**This standard was developed by Witek Radomski, Andrew Cooke, Philippe Castonguay, James Therien, Eric Binet, and Ronan Sandford.**\n",
    "\n",
    "The ERC-1155 token is described fully in EIP-1155.\n",
    "\n",
    "The distinctive feature of ERC1155 is that it uses a single smart contract to represent multiple tokens at once. This is why its balanceOf function differs from ERC20’s and ERC777’s: it has an additional id argument for the identifier of the token that you want to query the balance of.\n",
    "\n",
    "\n",
    "This is similar to how ERC721 does things, but in that standard a token id has no concept of balance: each token is non-fungible and exists or doesn’t. The ERC721 balanceOf function refers to how many different tokens an account has, not how many of each. On the other hand, in ERC1155 accounts have a distinct balance for each token id, and non-fungible tokens are implemented by simply minting a single one of them.\n",
    "\n",
    "\n",
    "This approach leads to massive gas savings for projects that require multiple tokens. Instead of deploying a new contract for each token type, a single ERC1155 token contract can hold the entire system state, reducing deployment costs and complexity.\n",
    "\n",
    "The ERC-1155 token is fully described in a EIP (Ethereum Improvement Proposal), more specifically in the EIP-1155, from which it derives its name."
   ]
  },
  {
   "cell_type": "markdown",
   "id": "817b4484",
   "metadata": {},
   "source": [
    "# PREREQUISITES\n",
    "\n",
    "To better understand this standard, we recommend you first read about token standards, ERC-20, and ERC-721."
   ]
  },
  {
   "cell_type": "markdown",
   "id": "07db877a",
   "metadata": {},
   "source": [
    "## The limitations of the ERC-20 token\n",
    "The ERC-20 (for fungible tokens) and ERC-721 (for non-fungible, NFT) tokens of Ethereum are widely used within the ecosystem. Just take a look at Etherscan to see the enormous number of tokens of this type that exist. However, both tokens have limitations, some of them quite severe.\n",
    "\n",
    "For example, in the ERC-20 token, a major limitation of it is the lack of a way to “react” to ERC-20 transfer events. This results in ERC-20 tokens being trapped forever in contracts when users accidentally sent tokens to the wrong address. In this way, if you transfer to an incorrect ERC-20 address, what you have transferred is lost forever."
   ]
  },
  {
   "cell_type": "markdown",
   "id": "3d944e3e",
   "metadata": {},
   "source": [
    "## The limitations of the ERC-721 token\n",
    "For their part, ERC-721 tokens also have their own limitations. For example, obtaining a token identifier directly is impossible, and this makes transactions with these tokens difficult. In fact, if, for example, you have a set of 10 NFTs that you want to transfer to another person, that transfer will require you to carry out 10 different transactions, with their corresponding commission charge and that greatly increases the cost of this simple operation, as well as the load operations of the network, having a tremendous impact on the usability of the Ethereum network. In these scenarios you will have to transfer token by token, being impossible to transfer all 10 at the same time, something quite absurd actually.\n",
    "\n",
    "Another problem is traversing the ERC-721 tokens. This requires that all tokens within the contract be traversed for the purposes of providing a response to the DApp and the user in question. Imagine for a moment that an ERC-721 contract has under its registration 1 million tokens, that means that, if a person wants to know the status of their tokens, they must send a transaction to the network which will go through this million tokens, it will match them with the user's addresses and then deliver the response. That is the greatest demonstration of inefficiency that can be had in a system of this type."
   ]
  },
  {
   "cell_type": "markdown",
   "id": "4f79f267",
   "metadata": {},
   "source": [
    "## Incompatibility between ERC-20 and ERC-721 tokens\n",
    "Along with this, the ERC-20 and ERC-721 tokens are incompatible with each other. In fact, the contracts are so different that creating additional functionality that links the two is a daunting task, and would likely have a heavy impact on the network, potential failures, and high commission costs.\n",
    "\n",
    "This is especially important because many DApps make use of both types of tokens, and due to this limitation, the logic of their operation becomes more complex. If a single smart contract could be used to handle everything, it would be much easier to program, as well as being more secure and less complex to design."
   ]
  },
  {
   "cell_type": "markdown",
   "id": "72b38883",
   "metadata": {},
   "source": [
    "## A more efficient way to use resources and schedule\n",
    "Against this background, ERC-1155 has been created in order to unite both worlds under the same contract, overcoming the limitations already described and making their management more efficient. Not only that, this solution would even avoid the enormous fragmentation of tokens that exists today, allowing the same type of contract to control both types of tokens.\n",
    "\n",
    "This, for example, would allow a DApp developer to use the ERC-1155 so that its users can register fungible tokens (tokens that can be used as payment currencies) and non-fungible tokens (collectibles, exchangeable items within the DApp or game) using the same contract, the same address and simplifying the logic of the DApps and the smart contracts associates. Without a doubt, it is a more efficient use of resources, something that would not come more in blockchains like Ethereum and its limited resources."
   ]
  },
  {
   "cell_type": "markdown",
   "id": "a2b47362",
   "metadata": {},
   "source": [
    "## New functions and possibilities of the ERC-1155 token\n",
    "A moment ago we talked about the ERC-20 and ERC-721 tokens having limitations to be overcome and that ERC-1155 was the answer to it. At this point you will wonder What can you really do with an ERC-1155? Well, these are some of the possibilities:\n",
    "\n",
    "### Mass transfers as standard\n",
    "The ERC-1155 standard allows to make massive transfers natively of the tokens included in a smart contract. In this way, if, for example, we have a series of NFT tokens or fungible tokens (or both), we can transfer several of these tokens in the same operation, making a single operation make this transfer effective.\n",
    "\n",
    "In this way, it is possible to save on transaction costs, minimize the impact on the network, and enable a trading system (escrow/atomic swap) using said tokens much more easily.\n",
    "\n",
    "### Multiple tokens in the same contract\n",
    "In addition to this, an ERC-1155 can describe the existence and operation of multiple tokens at the same time. That is, an ERC-1155 can create one or more fungible tokens (like ERC-20) and can also describe one or more non-fungible tokens (like ERC-721) all within the same contract, facilitating deployment and programming. thereof.\n",
    "\n",
    "### Integrated token type detection\n",
    "Another functionality within the ERC-1155 token is the ability to integrate the functionality of the ERC-165 (known as, Standard Detection Interface), all within the same system. In this way, the ERC-1155 token is able to detect the interface of the token and adapt its behavior depending on it. This is especially useful due to the multitoken nature of the ERC-1155 and simplifies application design.\n",
    "\n",
    "### Secure token transfer\n",
    "Perhaps one of the most promising features of the ERC-1155 token is the secure token transfer. To do this, the ERC-1155 standard smart contract includes a function that verifies that the transaction has been carried out, and if not, reverts it to return control of the tokens to its issuer.\n",
    "\n",
    "This is especially useful when we make a mistake in the transcription or copy of addresses and instead send our tokens to the wrong address unable to process our transaction. In that case, the transfer is void, and the issuer recovers the tokens, allowing it to verify the address again and retry the operation. To avoid attacks from double-spending, there are a number of rules described that prevent this behavior, making it safe against these types of attacks and other traps.\n",
    "\n",
    "\n",
    "## Current use of ERC-1155 tokens\n",
    "Currently there are few platforms that make active use of ERC-1155 tokens, one of them being the game producer Enjin, known for building the Minecraft game. In fact, Enjin is one of the companies that most means has put to promote the use of this new standard, something logical, considering that he has been one of the creators of this new system, by the hand of developer Witek Radomski.\n",
    "\n",
    "Enjin has demonstrated the power of this new token by creating a vast number of games that are powered by its Enjin Coin (an ERC-20 token), which is linked to a series of smart contracts that game developers send to ENJ. to create new and unique ERC-1155 fungible or non-fungible tokens. These tokens can be traded on the Enjin Marketplace, or exchanged for your ENJ at any time. As more custom tokens are minted, more ENJ is removed from the ecosystem, making it scarcer. The result, its ecosystem has grown significantly and, in fact, the ENJ token is positioned as one of the fastest growing tokens this 2020.\n",
    "\n",
    "The utility and technical superiority of ERC-1155 seems to be enormous when compared to ERC-20 and ERC-721, making it clear that little by little it will take on more and more spaces. You can see the progress of projects that use ERC-1155 in this websiteIt is only a matter of time that we see more and more projects using this technology."
   ]
  },
  {
   "cell_type": "markdown",
   "id": "d224a510",
   "metadata": {},
   "source": [
    "# ERC-1155 FUNCTIONS AND FEATURES:\n",
    "* **Batch Transfer**: Transfer multiple assets in a single call.\n",
    "* **Batch Balance**: Get the balances of multiple assets in a single call.\n",
    "* **Batch Approval**: Approve all tokens to an address.\n",
    "* **Hooks**: Receive tokens hook.\n",
    "* **NFT Support**: If supply is only 1, treat it as NFT.\n",
    "* **Safe Transfer Rules**: Set of rules for secure transfer."
   ]
  },
  {
   "cell_type": "markdown",
   "id": "0c5e1895",
   "metadata": {},
   "source": [
    "## Batch Transfers\n",
    "The batch transfer works very similar to regular ERC-20 transfers. Let's look at the regular ERC-20 transferFrom function:"
   ]
  },
  {
   "cell_type": "raw",
   "id": "c5a7369c",
   "metadata": {},
   "source": [
    "// ERC-20\n",
    "function transferFrom(address from, address to, uint256 value) external returns (bool);\n",
    "\n",
    "// ERC-1155\n",
    "function safeBatchTransferFrom(\n",
    "    address _from,\n",
    "    address _to,\n",
    "    uint256[] calldata _ids,\n",
    "    uint256[] calldata _values,\n",
    "    bytes calldata _data\n",
    ") external;"
   ]
  },
  {
   "cell_type": "markdown",
   "id": "2284b7d3",
   "metadata": {},
   "source": [
    "The only difference in ERC-1155 is that we pass the values as an array and we also pass an array of id's. For example given ids=[3, 6, 13] and values=[100, 200, 5], the resulting transfers will be\n",
    "\n",
    "1. Transfer 100 tokens with id 3 from _from to _to.\n",
    "2. Transfer 200 tokens with id 6 from _from to _to.\n",
    "3. Transfer 5 tokens with id 13 from _from to _to.\n",
    "In ERC-1155 we only have transferFrom, no transfer. To use it like a regular transfer, just set the from address to the address that's calling the function.\n",
    "\n",
    "\n",
    "## Batch Balance\n",
    "The respective ERC-20 balanceOf call likewise has its partner function with batch support. As a reminder, this is the ERC-20 version:"
   ]
  },
  {
   "cell_type": "raw",
   "id": "5ba11538",
   "metadata": {},
   "source": [
    "// ERC-20\n",
    "function balanceOf(address owner) external view returns (uint256);\n",
    "\n",
    "// ERC-1155\n",
    "function balanceOfBatch(\n",
    "    address[] calldata _owners,\n",
    "    uint256[] calldata _ids\n",
    ") external view returns (uint256[] memory);"
   ]
  },
  {
   "cell_type": "markdown",
   "id": "4d8d9a14",
   "metadata": {},
   "source": [
    "Even simpler for the balance call, we can retrieve multiple balances in a single call. We pass the array of owners, followed by the array of token ids.\n",
    "\n",
    "For example given _ids=[3, 6, 13] and _owners=[0xbeef..., 0x1337..., 0x1111...], the return value will be"
   ]
  },
  {
   "cell_type": "raw",
   "id": "32d4ffa7",
   "metadata": {},
   "source": [
    "[\n",
    "    balanceOf(0xbeef...),\n",
    "    balanceOf(0x1337...),\n",
    "    balanceOf(0x1111...)\n",
    "]"
   ]
  },
  {
   "cell_type": "markdown",
   "id": "d54bff99",
   "metadata": {},
   "source": [
    "## Batch Approval"
   ]
  },
  {
   "cell_type": "raw",
   "id": "7cd13db8",
   "metadata": {},
   "source": [
    "// ERC-1155\n",
    "function setApprovalForAll(\n",
    "    address _operator,\n",
    "    bool _approved\n",
    ") external;\n",
    "\n",
    "function isApprovedForAll(\n",
    "    address _owner,\n",
    "    address _operator\n",
    ") external view returns (bool);"
   ]
  },
  {
   "cell_type": "markdown",
   "id": "08e11cfb",
   "metadata": {},
   "source": [
    "The approvals are slightly different than ERC-20. Instead of approving specific amounts, you set an operator to approved or not approved via setApprovalForAll.\n",
    "\n",
    "Reading the current status can be done via isApprovedForAll. As you can see, it's an all or nothing. You cannot define how many tokens to approve or even which token class.\n",
    "\n",
    "This is intentionally designed with simplicity in mind. You can only approve everything for one address.\n",
    "\n",
    "## Receive Hook"
   ]
  },
  {
   "cell_type": "raw",
   "id": "77c621e3",
   "metadata": {},
   "source": [
    "function onERC1155BatchReceived(\n",
    "    address _operator,\n",
    "    address _from,\n",
    "    uint256[] calldata _ids,\n",
    "    uint256[] calldata _values,\n",
    "    bytes calldata _data\n",
    ") external returns(bytes4);"
   ]
  },
  {
   "cell_type": "markdown",
   "id": "3cbc19f1",
   "metadata": {},
   "source": [
    "Given the EIP-165 support, ERC-1155 supports receive hooks for smart contracts only. The hook function must return a magic predefined bytes4 value which is given as:"
   ]
  },
  {
   "cell_type": "raw",
   "id": "748dc10e",
   "metadata": {},
   "source": [
    "bytes4(keccak256(\"onERC1155BatchReceived(address,address,uint256[],uint256[],bytes)\"))"
   ]
  },
  {
   "cell_type": "markdown",
   "id": "bd63c2a9",
   "metadata": {},
   "source": [
    "When the receiving contract returns this value, it is assumed the contract accepts the transfer and knows how to handle the ERC-1155 tokens. Great, no more stuck tokens in a contract!\n",
    "\n",
    "## NFT Support\n",
    "When the supply is just one, the token is essentially a non-fungible token (NFT). And as is standard for ERC-721, you can define a metadata URL. The URL can be read and modified by clients, see here.\n",
    "\n",
    "\n",
    "## Safe Transfer Rule\n",
    "We've touched on a few safe transfer rules already in the previous explanations. But let's look at the most important of the rules:\n",
    "\n",
    "1. The caller must be approved to spend the tokens for the _from address or the caller must equal _from.\n",
    "2. The transfer call must revert if\n",
    " * _to address is 0.\n",
    " * length of _ids is not the same as length of _values.\n",
    " * any of the balance(s) of the holder(s) for token(s) in _ids is lower than the respective amount(s) in _values sent to the recipient.\n",
    " * any other error occurs.\n",
    " \n",
    "\n",
    "**Note**: All batch functions including the hook also exist as versions without batch. This is done for gas efficiency, considering transferring just one asset will likely still be the most commonly used way. We've left them out for simplicity in the explanations, including safe transfer rules. The names are identical, just remove the 'Batch'."
   ]
  },
  {
   "cell_type": "raw",
   "id": "3ba28fa0",
   "metadata": {},
   "source": [
    "pragma solidity ^0.5.9;\n",
    "\n",
    "/**\n",
    "    @title ERC-1155 Multi Token Standard\n",
    "    @dev See https://eips.ethereum.org/EIPS/eip-1155\n",
    "    Note: The ERC-165 identifier for this interface is 0xd9b67a26.\n",
    " */\n",
    "interface ERC1155{\n",
    "    /**\n",
    "        @dev Either `TransferSingle` or `TransferBatch` MUST emit when tokens are transferred, including zero value transfers as well as minting or burning (see \"Safe Transfer Rules\" section of the standard).\n",
    "        The `_operator` argument MUST be the address of an account/contract that is approved to make the transfer (SHOULD be msg.sender).\n",
    "        The `_from` argument MUST be the address of the holder whose balance is decreased.\n",
    "        The `_to` argument MUST be the address of the recipient whose balance is increased.\n",
    "        The `_id` argument MUST be the token type being transferred.\n",
    "        The `_value` argument MUST be the number of tokens the holder balance is decreased by and match what the recipient balance is increased by.\n",
    "        When minting/creating tokens, the `_from` argument MUST be set to `0x0` (i.e. zero address).\n",
    "        When burning/destroying tokens, the `_to` argument MUST be set to `0x0` (i.e. zero address).        \n",
    "    */\n",
    "    event TransferSingle(address indexed _operator, address indexed _from, address indexed _to, uint256 _id, uint256 _value);\n",
    "\n",
    "    /**\n",
    "        @dev Either `TransferSingle` or `TransferBatch` MUST emit when tokens are transferred, including zero value transfers as well as minting or burning (see \"Safe Transfer Rules\" section of the standard).      \n",
    "        The `_operator` argument MUST be the address of an account/contract that is approved to make the transfer (SHOULD be msg.sender).\n",
    "        The `_from` argument MUST be the address of the holder whose balance is decreased.\n",
    "        The `_to` argument MUST be the address of the recipient whose balance is increased.\n",
    "        The `_ids` argument MUST be the list of tokens being transferred.\n",
    "        The `_values` argument MUST be the list of number of tokens (matching the list and order of tokens specified in _ids) the holder balance is decreased by and match what the recipient balance is increased by.\n",
    "        When minting/creating tokens, the `_from` argument MUST be set to `0x0` (i.e. zero address).\n",
    "        When burning/destroying tokens, the `_to` argument MUST be set to `0x0` (i.e. zero address).                \n",
    "    */\n",
    "    event TransferBatch(address indexed _operator, address indexed _from, address indexed _to, uint256[] _ids, uint256[] _values);\n",
    "\n",
    "    /**\n",
    "        @dev MUST emit when approval for a second party/operator address to manage all tokens for an owner address is enabled or disabled (absence of an event assumes disabled).        \n",
    "    */\n",
    "    event ApprovalForAll(address indexed _owner, address indexed _operator, bool _approved);\n",
    "\n",
    "    /**\n",
    "        @dev MUST emit when the URI is updated for a token ID.\n",
    "        URIs are defined in RFC 3986.\n",
    "        The URI MUST point to a JSON file that conforms to the \"ERC-1155 Metadata URI JSON Schema\".\n",
    "    */\n",
    "    event URI(string _value, uint256 indexed _id);\n",
    "\n",
    "    /**\n",
    "        @notice Transfers `_value` amount of an `_id` from the `_from` address to the `_to` address specified (with safety call).\n",
    "        @dev Caller must be approved to manage the tokens being transferred out of the `_from` account (see \"Approval\" section of the standard).\n",
    "        MUST revert if `_to` is the zero address.\n",
    "        MUST revert if balance of holder for token `_id` is lower than the `_value` sent.\n",
    "        MUST revert on any other error.\n",
    "        MUST emit the `TransferSingle` event to reflect the balance change (see \"Safe Transfer Rules\" section of the standard).\n",
    "        After the above conditions are met, this function MUST check if `_to` is a smart contract (e.g. code size > 0). If so, it MUST call `onERC1155Received` on `_to` and act appropriately (see \"Safe Transfer Rules\" section of the standard).        \n",
    "        @param _from    Source address\n",
    "        @param _to      Target address\n",
    "        @param _id      ID of the token type\n",
    "        @param _value   Transfer amount\n",
    "        @param _data    Additional data with no specified format, MUST be sent unaltered in call to `onERC1155Received` on `_to`\n",
    "    */\n",
    "    function safeTransferFrom(address _from, address _to, uint256 _id, uint256 _value, bytes calldata _data) external;\n",
    "\n",
    "    /**\n",
    "        @notice Transfers `_values` amount(s) of `_ids` from the `_from` address to the `_to` address specified (with safety call).\n",
    "        @dev Caller must be approved to manage the tokens being transferred out of the `_from` account (see \"Approval\" section of the standard).\n",
    "        MUST revert if `_to` is the zero address.\n",
    "        MUST revert if length of `_ids` is not the same as length of `_values`.\n",
    "        MUST revert if any of the balance(s) of the holder(s) for token(s) in `_ids` is lower than the respective amount(s) in `_values` sent to the recipient.\n",
    "        MUST revert on any other error.        \n",
    "        MUST emit `TransferSingle` or `TransferBatch` event(s) such that all the balance changes are reflected (see \"Safe Transfer Rules\" section of the standard).\n",
    "        Balance changes and events MUST follow the ordering of the arrays (_ids[0]/_values[0] before _ids[1]/_values[1], etc).\n",
    "        After the above conditions for the transfer(s) in the batch are met, this function MUST check if `_to` is a smart contract (e.g. code size > 0). If so, it MUST call the relevant `ERC1155TokenReceiver` hook(s) on `_to` and act appropriately (see \"Safe Transfer Rules\" section of the standard).                      \n",
    "        @param _from    Source address\n",
    "        @param _to      Target address\n",
    "        @param _ids     IDs of each token type (order and length must match _values array)\n",
    "        @param _values  Transfer amounts per token type (order and length must match _ids array)\n",
    "        @param _data    Additional data with no specified format, MUST be sent unaltered in call to the `ERC1155TokenReceiver` hook(s) on `_to`\n",
    "    */\n",
    "    function safeBatchTransferFrom(address _from, address _to, uint256[] calldata _ids, uint256[] calldata _values, bytes calldata _data) external;\n",
    "\n",
    "    /**\n",
    "        @notice Get the balance of an account's tokens.\n",
    "        @param _owner  The address of the token holder\n",
    "        @param _id     ID of the token\n",
    "        @return        The _owner's balance of the token type requested\n",
    "     */\n",
    "    function balanceOf(address _owner, uint256 _id) external view returns (uint256);\n",
    "\n",
    "    /**\n",
    "        @notice Get the balance of multiple account/token pairs\n",
    "        @param _owners The addresses of the token holders\n",
    "        @param _ids    ID of the tokens\n",
    "        @return        The _owner's balance of the token types requested (i.e. balance for each (owner, id) pair)\n",
    "     */\n",
    "    function balanceOfBatch(address[] calldata _owners, uint256[] calldata _ids) external view returns (uint256[] memory);\n",
    "\n",
    "    /**\n",
    "        @notice Enable or disable approval for a third party (\"operator\") to manage all of the caller's tokens.\n",
    "        @dev MUST emit the ApprovalForAll event on success.\n",
    "        @param _operator  Address to add to the set of authorized operators\n",
    "        @param _approved  True if the operator is approved, false to revoke approval\n",
    "    */\n",
    "    function setApprovalForAll(address _operator, bool _approved) external;\n",
    "\n",
    "    /**\n",
    "        @notice Queries the approval status of an operator for a given owner.\n",
    "        @param _owner     The owner of the tokens\n",
    "        @param _operator  Address of authorized operator\n",
    "        @return           True if the operator is approved, false if not\n",
    "    */\n",
    "    function isApprovedForAll(address _owner, address _operator) external view returns (bool);\n",
    "}"
   ]
  },
  {
   "cell_type": "markdown",
   "id": "1a1df1d8",
   "metadata": {},
   "source": [
    "# Batch Operations\n",
    "\n",
    "Because all state is held in a single contract, it is possible to operate over multiple tokens in a single transaction very efficiently. The standard provides two functions, balanceOfBatch and safeBatchTransferFrom, that make querying multiple balances and transferring multiple tokens simpler and less gas-intensive.\n",
    "\n",
    "In the spirit of the standard, we’ve also included batch operations in the non-standard functions, such as _mintBatch."
   ]
  },
  {
   "cell_type": "markdown",
   "id": "7a23b452",
   "metadata": {},
   "source": [
    "# Constructing an ERC1155 Token Contract 1\n",
    "We’ll use ERC1155 to track multiple items in our game, which will each have their own unique attributes. We mint all items to the deployer of the contract, which we can later transfer to players. Players are free to keep their tokens or trade them with other people as they see fit, as they would any other asset on the blockchain!\n",
    "\n",
    "For simplicity we will mint all items in the constructor but you could add minting functionality to the contract to mint on demand to players."
   ]
  },
  {
   "cell_type": "markdown",
   "id": "873ec8e0",
   "metadata": {},
   "source": [
    "Here’s what a contract for tokenized items might look like:"
   ]
  },
  {
   "cell_type": "raw",
   "id": "023061e1",
   "metadata": {},
   "source": [
    "// contracts/GameItems.sol\n",
    "// SPDX-License-Identifier: MIT\n",
    "pragma solidity ^0.6.0;\n",
    "\n",
    "import \"@openzeppelin/contracts/token/ERC1155/ERC1155.sol\";\n",
    "\n",
    "contract GameItems is ERC1155 {\n",
    "    uint256 public constant GOLD = 0;\n",
    "    uint256 public constant SILVER = 1;\n",
    "    uint256 public constant THORS_HAMMER = 2;\n",
    "    uint256 public constant SWORD = 3;\n",
    "    uint256 public constant SHIELD = 4;\n",
    "\n",
    "    constructor() public ERC1155(\"https://game.example/api/item/{id}.json\") {\n",
    "        _mint(msg.sender, GOLD, 10**18, \"\");\n",
    "        _mint(msg.sender, SILVER, 10**27, \"\");\n",
    "        _mint(msg.sender, THORS_HAMMER, 1, \"\");\n",
    "        _mint(msg.sender, SWORD, 10**9, \"\");\n",
    "        _mint(msg.sender, SHIELD, 10**9, \"\");\n",
    "    }\n",
    "}"
   ]
  },
  {
   "cell_type": "markdown",
   "id": "76601418",
   "metadata": {},
   "source": [
    "Note that for our Game Items, Gold is a fungible token whilst Thor’s Hammer is a non-fungible token as we minted only one.\n",
    "\n",
    "The ERC1155 contract includes the optional extension IERC1155MetadataURI. That’s where the uri function comes from: we use it to retrieve the metadata uri.\n",
    "\n",
    "Also note that, unlike ERC20, ERC1155 lacks a decimals field, since each token is distinct and cannot be partitioned.\n",
    "\n",
    "Once deployed, we will be able to query the deployer’s balance:"
   ]
  },
  {
   "cell_type": "raw",
   "id": "7a7b0262",
   "metadata": {},
   "source": [
    "gameItems.balanceOf(deployerAddress,3) ## 1000000000"
   ]
  },
  {
   "cell_type": "raw",
   "id": "00071a91",
   "metadata": {},
   "source": [
    "## We can transfer items to player accounts:\n",
    "gameItems.safeTransferFrom(deployerAddress, playerAddress, 2, 1, \"0x0\")\n",
    "gameItems.balanceOf(playerAddress, 2) # 1\n",
    "gameItems.balanceOf(deployerAddress, 2) # 0"
   ]
  },
  {
   "cell_type": "raw",
   "id": "0ea59531",
   "metadata": {},
   "source": [
    "## We can also batch transfer items to player accounts and get the balance of batches:\n",
    "\n",
    "gameItems.safeBatchTransferFrom(deployerAddress, playerAddress, [0,1,3,4], [50,100,1,1], \"0x0\")\n",
    "gameItems.balanceOfBatch([playerAddress,playerAddress,playerAddress,playerAddress,playerAddress], [0,1,2,3,4])\n",
    "## [50,100,1,1,1]"
   ]
  },
  {
   "cell_type": "raw",
   "id": "45160fc7",
   "metadata": {},
   "source": [
    "## The metadata uri can be obtained:\n",
    "gameItems.uri(2)\n",
    "## \"https://game.example/api/item/{id}.json\""
   ]
  },
  {
   "cell_type": "markdown",
   "id": "d7efd75e",
   "metadata": {},
   "source": [
    "The uri can include the string {id} which clients must replace with the actual token ID, in lowercase hexadecimal (with no 0x prefix) and leading zero padded to 64 hex characters.\n",
    "\n",
    "For token ID 2 and uri https://game.example/api/item/{id}.json clients would replace {id} with 0000000000000000000000000000000000000000000000000000000000000002 to retrieve JSON at https://game.example/api/item/0000000000000000000000000000000000000000000000000000000000000002.json.\n",
    "\n",
    "The JSON document for token ID 2 might look something like:"
   ]
  },
  {
   "cell_type": "raw",
   "id": "95d68e0f",
   "metadata": {},
   "source": [
    "{\n",
    "    \"name\": \"Thor's hammer\",\n",
    "    \"description\": \"Mjölnir, the legendary hammer of the Norse god of thunder.\",\n",
    "    \"image\": \"https://game.example/item-id-8u5h2m.png\",\n",
    "    \"strength\": 20\n",
    "}"
   ]
  },
  {
   "cell_type": "markdown",
   "id": "a843b5cc",
   "metadata": {},
   "source": [
    "For more information about the metadata JSON Schema, check out the [ERC-1155 Metadata URI JSON Schema.](https://github.com/ethereum/EIPs/blob/master/EIPS/eip-1155.md#erc-1155-metadata-uri-json-schema)"
   ]
  },
  {
   "cell_type": "markdown",
   "id": "f5d69c4c",
   "metadata": {},
   "source": [
    "# Constructing an ERC1155 Token Contract 2\n",
    "\n",
    "## What we will do:\n",
    "* Create 3 NFT collections\n",
    "* Create and deploy an ERC-1155 contract\n",
    "* Update the contract to be compatible with OpenSea\n",
    "* Deploy our NFT collections\n",
    "\n",
    "## What you will need:\n",
    "* Image assets to create NFTs\n",
    "* MetaMask and some Ropsten test ETH.\n",
    "* Knowledge of ERC20 and ERC721 (NFT) token standards.\n",
    "\n",
    "## Creating Metadata URI\n",
    "We will create 3 NFT collections (rock, paper, and scissors) with a single NFT in each one. To upload our files to the decentralized storage IPFS, we can upload them through CLI or use this very easy-to-use tool NFT Storage.\n",
    "\n",
    "We will be using the second option, NFT Storage. Sign in to NFT Storage and upload your image files for rock, paper, and scissors. You should see something like this once they've been uploaded successfully:\n",
    "\n",
    "![erc1155_1](../static/image/erc1155/erc1155_1.png)\n",
    "\n",
    "Click on \"Actions\" and copy the IPFS URL of each image; we will need it for the metadata of each collection.\n",
    "\n",
    "![erc1155_2](../static/image/erc1155/erc1155_2.png)\n",
    "\n",
    "\n",
    "We will create three JSON metadata files to store information about our NFT collections.\n",
    "\n",
    "1. Rock collection\n",
    "2. Paper collection\n",
    "3. Scissors collection\n",
    "\n",
    "Our 1.json file will look something like this:"
   ]
  },
  {
   "cell_type": "raw",
   "id": "fffb97cf",
   "metadata": {},
   "source": [
    "{ //1.\n",
    "\n",
    "    \"name\": \"Rocks\",\n",
    "\n",
    "    \"description\": \"This is a collection of Rock NFTs.\",\n",
    "\n",
    "    \"image\": \"https://ipfs.io/ipfs/bafkreifvhjdf6ve4jfv6qytqtux5nd4nwnelioeiqx5x2ez5yrgrzk7ypi\",\n",
    "\n",
    "}"
   ]
  },
  {
   "cell_type": "markdown",
   "id": "c5b6f1e9",
   "metadata": {},
   "source": [
    "* name: Has the name of the NFT.\n",
    "* description: Has the description of the NFT.\n",
    "* image: Has the link to the image we got earlier (IPFS URL).\n",
    "\n",
    "If a collection has multiple images, which is usually the case, an extra parameter id is added to differentiate tokens amongst the collection.\n",
    "\n",
    "Create the remaining JSON files, 2.json and 3.json, for paper and scissors collections, respectively.\n",
    "\n",
    "To efficiently upload all the JSON files to IPFS, we will archive them in content-addressed format. https://car.ipfs.io/ helps archive files in IPFS compatible content-addressed archive (.car) format.\n",
    "\n",
    "Head over to IPFS CAR and upload all three JSON files. Once uploaded, download the .car file and upload it to NFT Storage. All our JSON files are now stored on IPFS in an archived manner. Copy the IPFS URL of the uploaded .car file, and you should be able to access JSON files by just entering the file name at the end of the URL, for example:\n",
    "\n",
    "https://ipfs.io/ipfs/bafybeihjjkwdrxxjnuwevlqtqmh3iegcadc32sio4wmo7bv2gbf34qs34a/1.json\n",
    "\n",
    "\n",
    "![erc1155_3](../static/image/erc1155/erc1155_3.png)\n",
    "\n",
    "## Creating & Deploying the ERC1155 Contract\n",
    "We will use the OpenZeppelin contracts library to create our ERC1155 contract and deploy it using Ethereum REMIX IDE on the Ropsten testnet. Make sure you have some Ropsten test ETH which you can also get from Ropsten Faucet.\n",
    "\n",
    "Create a new file, token.sol, in REMIX and paste the following code into it."
   ]
  },
  {
   "cell_type": "raw",
   "id": "d84c009b",
   "metadata": {},
   "source": [
    "// SPDX-License-Identifier: MIT\n",
    "pragma solidity ^0.8.0;\n",
    "\n",
    "import \"@openzeppelin/contracts/token/ERC1155/ERC1155.sol\";\n",
    "\n",
    "contract rockPaperScissors is ERC1155 {\n",
    "    uint256 public constant Rock = 1;\n",
    "    uint256 public constant Paper = 2;\n",
    "    uint256 public constant Scissors = 3;\n",
    "\n",
    "    constructor() ERC1155(\"https://ipfs.io/ipfs/bafybeihjjkwdrxxjnuwevlqtqmh3iegcadc32sio4wmo7bv2gbf34qs34a/{id}.json\") {\n",
    "        _mint(msg.sender, Rock, 1, \"\");\n",
    "        _mint(msg.sender, Paper, 1, \"\");\n",
    "        _mint(msg.sender, Scissors, 1, \"\");\n",
    "    }\n",
    "}"
   ]
  },
  {
   "cell_type": "markdown",
   "id": "2ad1d42a",
   "metadata": {},
   "source": [
    "## Explanation of the code above:\n",
    "\n",
    "* **Line 1**: Specifying SPDX license type, which is added after Solidity ^0.6.8. Whenever the source code of a smart contract is made available to the public, these licenses can help resolve/avoid copyright issues. If you do not wish to specify any license type, you can use a special value UNLICENSED or simply skip the whole comment (it will not result in an error, just a warning).\n",
    "\n",
    "* **Line 2**: Declaring the Solidity version.\n",
    "\n",
    "* **Line 4**: Importing the OpenZeppelin ERC1155 contract.\n",
    "\n",
    "* **Lines 6-9**: Creating our contract named rockPaperScissors and creating three variables Rock, Paper, and Scissors; then assigning proper id to each one of them.\n",
    "\n",
    "* **Lines 11-15**: Initializing constructor with the link to our car file as a parameter, minting different NFT collections with parameters:\n",
    "\n",
    "        * Address on which tokens will be minted to, msg.sender here means the deployer of the contract.\n",
    "        * Token id, we have already assigned names to token id, so using names here.\n",
    "        * Quantity of each token.\n",
    "        * The last is the data field which is kept empty here.\n",
    "\n",
    "\n",
    "Compile the contract, go to the third tab on the left menu, select Injected Web3 as environment and deploy it by choosing the proper contract name:\n",
    "\n",
    "![erc1155_4](../static/image/erc1155/erc1155_4.png)\n",
    "\n",
    "Approve the transaction from MetaMask. Once the transaction is complete, your contract will be deployed.\n",
    "\n",
    "Now you can perform functions like getting the balance of the token by entering the address and token id. We can also retrieve the URI of the token by entering the token id.\n",
    "\n",
    "![erc1155_5](../static/image/erc1155/erc1155_5.jpeg)\n",
    "\n",
    "OpenSea does not support the returned URI format. So we will need to overwrite the URI function to return the file name as a string:"
   ]
  },
  {
   "cell_type": "raw",
   "id": "286f61dc",
   "metadata": {},
   "source": [
    "// SPDX-License-Identifier: MIT\n",
    "pragma solidity ^0.8.0;\n",
    "\n",
    "import \"@openzeppelin/contracts/token/ERC1155/ERC1155.sol\";\n",
    "import \"@openzeppelin/contracts/utils/Strings.sol\";\n",
    "\n",
    "contract rockPaperScissors is ERC1155 {\n",
    "    uint256 public constant Rock = 1;\n",
    "    uint256 public constant Paper = 2;\n",
    "    uint256 public constant Scissors = 3;\n",
    "\n",
    "    constructor() ERC1155(\"https://ipfs.io/ipfs/bafybeihjjkwdrxxjnuwevlqtqmh3iegcadc32sio4wmo7bv2gbf34qs34a/{id}.json\") {\n",
    "        _mint(msg.sender, Rock, 1, \"\");\n",
    "        _mint(msg.sender, Paper, 1, \"\");\n",
    "        _mint(msg.sender, Scissors, 1, \"\");\n",
    "    }\n",
    "\n",
    "    function uri(uint256 _tokenid) override public pure returns (string memory) {\n",
    "        return string(\n",
    "            abi.encodePacked(\n",
    "                \"https://ipfs.io/ipfs/bafybeihjjkwdrxxjnuwevlqtqmh3iegcadc32sio4wmo7bv2gbf34qs34a/\",\n",
    "                Strings.toString(_tokenid),\".json\"\n",
    "            )\n",
    "        );\n",
    "    }\n",
    "}"
   ]
  },
  {
   "cell_type": "markdown",
   "id": "f397e114",
   "metadata": {},
   "source": [
    "## Additions:\n",
    "\n",
    "* **Line 5**: Importing an OpenZeppelin contract to convert Integer to String.\n",
    "\n",
    "* **Lines 18-25**: Overriding the URI function by creating a custom URI function and converting token if from integer to string, then returning the complete URI.\n",
    "\n",
    "Recompile the contract and deploy it. When you query the contract for URI now, it will return a format supported by OpenSea.\n",
    "\n",
    "\n",
    "![erc1155_6](../static/image/erc1155/erc1155_6.png)\n",
    "\n",
    "## Conclusion\n",
    "Congratulations on deploying your ERC1155 tokens. If you made it here now you know about the ERC1155 multi-token standard and how to create and deploy ERC1155 NFTs."
   ]
  },
  {
   "cell_type": "markdown",
   "id": "afb9299e",
   "metadata": {},
   "source": [
    "# Who's using ERC-1155?\n",
    "* 🎮 Enjin - Enjin offers a number of blockchain products, many of which implement ERC-1155.\n",
    "* 🕹️ Horizon - Horizon is a blockchain games company whose Skyweaver game uses ERC-1155.\n",
    "* 🖼️ OpenSea - The NFT marketplace's ERC-1155 implementation allows multiple creators per smart contract but only one creator is able to mint more copies. \n",
    "* 🎈 OpenZeppelin - OpenZeppelin's blockchain security products leverage the ERC-1155 standard."
   ]
  },
  {
   "cell_type": "markdown",
   "id": "ad8c203a",
   "metadata": {},
   "source": [
    "# What other Ethereum standards are there?\n",
    "\n",
    "Other Ethereum standards have been created for different reasons, including:\n",
    "* ERC-721 - This is the token standard for non-fungible tokens (NFTs). Each token is unique and has its own code, which has led to a burgeoning market for crypto collectibles including trading cards and digital artworks.\n",
    "* ERC-1400 - These are for security tokens so the tokens can be sold as securities. This requires more control over who can access the coins and introduces know-your-customer protocols.\n",
    "* ERC-223 - When you make a transaction, fees are currently paid in Ether. This standard allows for the transaction fees to be paid using the tokens involved. This means a transfer of Augur would be paid in Augur tokens, with the ticker symbol REP.\n",
    "* ERC-777 - It aims to be an improvement on the ERC-20 standard by lowering overheads and adding new features. It is backwards-compatible, which means it might be more widely adopted."
   ]
  }
 ],
 "metadata": {
  "kernelspec": {
   "display_name": "Python 3 (ipykernel)",
   "language": "python",
   "name": "python3"
  },
  "language_info": {
   "codemirror_mode": {
    "name": "ipython",
    "version": 3
   },
   "file_extension": ".py",
   "mimetype": "text/x-python",
   "name": "python",
   "nbconvert_exporter": "python",
   "pygments_lexer": "ipython3",
   "version": "3.10.11"
  }
 },
 "nbformat": 4,
 "nbformat_minor": 5
}
