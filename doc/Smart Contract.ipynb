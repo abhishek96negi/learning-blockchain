{
 "cells": [
  {
   "cell_type": "markdown",
   "id": "4cce91eb",
   "metadata": {},
   "source": [
    "## What is smart contracts?\n",
    "\n",
    "Smart contracts are simply programs stored on a blockchain that run when predetermined conditions are met. They typically are used to automate the execution of an agreement so that all participants can be immediately certain of the outcome, without any intermediary’s involvement or time loss. They can also automate a workflow, triggering the next action when conditions are met.\n",
    "\n",
    "## How smart contracts work?\n",
    "\n",
    "Smart contracts work by following simple “if/when…then…” statements that are written into code on a blockchain. A network of computers executes the actions  when predetermined conditions have been met and verified. These actions could include releasing funds to the appropriate parties, registering a vehicle, sending notifications, or issuing a ticket. The blockchain is then updated when the transaction is completed. That means the transaction cannot be changed, and only parties who have been granted permission can see the results.\n",
    "\n",
    "Within a smart contract, there can be as many stipulations as needed to satisfy the participants that the task will be completed satisfactorily. To establish the terms, participants must determine how transactions and their data are represented on the blockchain, agree on the “if/when...then…” rules that govern those transactions, explore all possible exceptions, and define a framework for resolving disputes.\n",
    "\n",
    "Then the smart contract can be programmed by a developer – although increasingly, organizations that use blockchain for business provide templates, web interfaces, and other online tools to simplify structuring smart contracts.\n",
    "\n",
    "\n",
    "## Benefits of smart contracts\n",
    "\n",
    "**Speed, efficiency and accuracy**\n",
    "Once a condition is met, the contract is executed immediately. Because smart contracts are digital and automated, there’s no paperwork to process and no time spent reconciling errors that often result from manually filling in documents.\n",
    "\n",
    "**Trust and transparency**\n",
    "Because there’s no third party involved, and because encrypted records of transactions are shared across participants, there’s no need to question whether information has been altered for personal benefit.\n",
    "\n",
    "**Security**\n",
    "Blockchain transaction records are encrypted, which makes them very hard to hack. Moreover, because each record is connected to the previous and subsequent records on a distributed ledger, hackers would have to alter the entire chain to change a single record.\n",
    "\n",
    "**Savings**\n",
    "Smart contracts remove the need for intermediaries to handle transactions and, by extension, their associated time delays and fees."
   ]
  },
  {
   "cell_type": "markdown",
   "id": "089101f7",
   "metadata": {},
   "source": [
    "An account controlled by code.\n",
    "\n",
    "![smart_contract1](../static/image/smart_contract/smart_contract1.png)\n",
    "\n",
    "![smart_contract2](../static/image/smart_contract/smart_contract2.png)\n",
    "\n",
    "![smart_contract3](../static/image/smart_contract/smart_contract3.png)\n",
    "\n",
    "![smart_contract4](../static/image/smart_contract/smart_contract4.png)"
   ]
  }
 ],
 "metadata": {
  "kernelspec": {
   "display_name": "Python 3 (ipykernel)",
   "language": "python",
   "name": "python3"
  },
  "language_info": {
   "codemirror_mode": {
    "name": "ipython",
    "version": 3
   },
   "file_extension": ".py",
   "mimetype": "text/x-python",
   "name": "python",
   "nbconvert_exporter": "python",
   "pygments_lexer": "ipython3",
   "version": "3.10.11"
  }
 },
 "nbformat": 4,
 "nbformat_minor": 5
}
