{
 "cells": [
  {
   "cell_type": "markdown",
   "id": "87958b93",
   "metadata": {},
   "source": [
    "# How to Deploy and Interact with Solidity Contracts with Python and Ganache"
   ]
  },
  {
   "cell_type": "code",
   "execution_count": 1,
   "id": "051ce5b0",
   "metadata": {},
   "outputs": [],
   "source": [
    "# Installing the Package\n",
    "#!pip install web3\n",
    "#!pip install py-solc-x\n",
    "#!pip install python-dotenv"
   ]
  },
  {
   "cell_type": "code",
   "execution_count": 2,
   "id": "d4c8fd51",
   "metadata": {},
   "outputs": [
    {
     "data": {
      "text/plain": [
       "True"
      ]
     },
     "execution_count": 2,
     "metadata": {},
     "output_type": "execute_result"
    }
   ],
   "source": [
    "# Importing Necessary the Package\n",
    "from web3 import Web3\n",
    "import os\n",
    "from solcx import compile_standard, install_solc\n",
    "from dotenv import load_dotenv\n",
    "import json\n",
    "load_dotenv()"
   ]
  },
  {
   "cell_type": "markdown",
   "id": "2d7820fe",
   "metadata": {},
   "source": [
    "Now that the environment is setup, what exactly do you do to deploy a contract?"
   ]
  },
  {
   "cell_type": "code",
   "execution_count": 3,
   "id": "2f2d4adc",
   "metadata": {},
   "outputs": [],
   "source": [
    "# Read the bank.sol file in Python\n",
    "with open(\"../contract/bank.sol\", \"r\") as file:\n",
    "    solidity_contact = file.read()"
   ]
  },
  {
   "cell_type": "code",
   "execution_count": 4,
   "id": "7f707030",
   "metadata": {},
   "outputs": [
    {
     "data": {
      "text/plain": [
       "'pragma solidity 0.6.0;\\n\\ncontract Bank\\n{\\n    int bal;\\n\\n    constructor() public\\n    {\\n        bal = 1;\\n    }\\n\\n    function getBalance() view public returns(int)\\n    {\\n        return bal;\\n    }\\n\\n    function withdraw(int amt) public\\n    {\\n        bal = bal - amt;\\n    }\\n\\n    function deposit(int amt) public\\n    {\\n        bal = bal + amt;\\n    }\\n}\\n\\n\\n'"
      ]
     },
     "execution_count": 4,
     "metadata": {},
     "output_type": "execute_result"
    }
   ],
   "source": [
    "solidity_contact"
   ]
  },
  {
   "cell_type": "markdown",
   "id": "4fe861c4",
   "metadata": {},
   "source": [
    "Now, let me go back one step back. The modules you need from solcx are compile_standard and install_solc — the first to compile and the second to invoke a solc version which you want to use."
   ]
  },
  {
   "cell_type": "code",
   "execution_count": 5,
   "id": "b2575890",
   "metadata": {},
   "outputs": [
    {
     "data": {
      "text/plain": [
       "Version('0.6.0')"
      ]
     },
     "execution_count": 5,
     "metadata": {},
     "output_type": "execute_result"
    }
   ],
   "source": [
    "install_solc(\"0.6.0\")"
   ]
  },
  {
   "cell_type": "code",
   "execution_count": 6,
   "id": "6638e46c",
   "metadata": {},
   "outputs": [
    {
     "data": {
      "text/plain": [
       "{'contracts': {'Bank.sol': {'Bank': {'abi': [{'inputs': [],\n",
       "      'stateMutability': 'nonpayable',\n",
       "      'type': 'constructor'},\n",
       "     {'inputs': [{'internalType': 'int256', 'name': 'amt', 'type': 'int256'}],\n",
       "      'name': 'deposit',\n",
       "      'outputs': [],\n",
       "      'stateMutability': 'nonpayable',\n",
       "      'type': 'function'},\n",
       "     {'inputs': [],\n",
       "      'name': 'getBalance',\n",
       "      'outputs': [{'internalType': 'int256', 'name': '', 'type': 'int256'}],\n",
       "      'stateMutability': 'view',\n",
       "      'type': 'function'},\n",
       "     {'inputs': [{'internalType': 'int256', 'name': 'amt', 'type': 'int256'}],\n",
       "      'name': 'withdraw',\n",
       "      'outputs': [],\n",
       "      'stateMutability': 'nonpayable',\n",
       "      'type': 'function'}],\n",
       "    'evm': {'bytecode': {'linkReferences': {},\n",
       "      'object': '608060405234801561001057600080fd5b50600160008190555061010e806100286000396000f3fe6080604052348015600f57600080fd5b5060043610603c5760003560e01c806312065fe01460415780637e62eab814605d578063f04991f0146088575b600080fd5b604760b3565b6040518082815260200191505060405180910390f35b608660048036036020811015607157600080fd5b810190808035906020019092919050505060bc565b005b60b160048036036020811015609c57600080fd5b810190808035906020019092919050505060ca565b005b60008054905090565b806000540360008190555050565b80600054016000819055505056fea2646970667358221220ac2f9ac0414ca7b2604e93653aca76b900f848f86af45bde45b864c1b778628064736f6c63430006000033',\n",
       "      'opcodes': 'PUSH1 0x80 PUSH1 0x40 MSTORE CALLVALUE DUP1 ISZERO PUSH2 0x10 JUMPI PUSH1 0x0 DUP1 REVERT JUMPDEST POP PUSH1 0x1 PUSH1 0x0 DUP2 SWAP1 SSTORE POP PUSH2 0x10E DUP1 PUSH2 0x28 PUSH1 0x0 CODECOPY PUSH1 0x0 RETURN INVALID PUSH1 0x80 PUSH1 0x40 MSTORE CALLVALUE DUP1 ISZERO PUSH1 0xF JUMPI PUSH1 0x0 DUP1 REVERT JUMPDEST POP PUSH1 0x4 CALLDATASIZE LT PUSH1 0x3C JUMPI PUSH1 0x0 CALLDATALOAD PUSH1 0xE0 SHR DUP1 PUSH4 0x12065FE0 EQ PUSH1 0x41 JUMPI DUP1 PUSH4 0x7E62EAB8 EQ PUSH1 0x5D JUMPI DUP1 PUSH4 0xF04991F0 EQ PUSH1 0x88 JUMPI JUMPDEST PUSH1 0x0 DUP1 REVERT JUMPDEST PUSH1 0x47 PUSH1 0xB3 JUMP JUMPDEST PUSH1 0x40 MLOAD DUP1 DUP3 DUP2 MSTORE PUSH1 0x20 ADD SWAP2 POP POP PUSH1 0x40 MLOAD DUP1 SWAP2 SUB SWAP1 RETURN JUMPDEST PUSH1 0x86 PUSH1 0x4 DUP1 CALLDATASIZE SUB PUSH1 0x20 DUP2 LT ISZERO PUSH1 0x71 JUMPI PUSH1 0x0 DUP1 REVERT JUMPDEST DUP2 ADD SWAP1 DUP1 DUP1 CALLDATALOAD SWAP1 PUSH1 0x20 ADD SWAP1 SWAP3 SWAP2 SWAP1 POP POP POP PUSH1 0xBC JUMP JUMPDEST STOP JUMPDEST PUSH1 0xB1 PUSH1 0x4 DUP1 CALLDATASIZE SUB PUSH1 0x20 DUP2 LT ISZERO PUSH1 0x9C JUMPI PUSH1 0x0 DUP1 REVERT JUMPDEST DUP2 ADD SWAP1 DUP1 DUP1 CALLDATALOAD SWAP1 PUSH1 0x20 ADD SWAP1 SWAP3 SWAP2 SWAP1 POP POP POP PUSH1 0xCA JUMP JUMPDEST STOP JUMPDEST PUSH1 0x0 DUP1 SLOAD SWAP1 POP SWAP1 JUMP JUMPDEST DUP1 PUSH1 0x0 SLOAD SUB PUSH1 0x0 DUP2 SWAP1 SSTORE POP POP JUMP JUMPDEST DUP1 PUSH1 0x0 SLOAD ADD PUSH1 0x0 DUP2 SWAP1 SSTORE POP POP JUMP INVALID LOG2 PUSH5 0x6970667358 0x22 SLT KECCAK256 0xAC 0x2F SWAP11 0xC0 COINBASE 0x4C 0xA7 0xB2 PUSH1 0x4E SWAP4 PUSH6 0x3ACA76B900F8 0x48 0xF8 PUSH11 0xF45BDE45B864C1B7786280 PUSH5 0x736F6C6343 STOP MOD STOP STOP CALLER ',\n",
       "      'sourceMap': '24:320:0:-:0;;;58:49;8:9:-1;5:2;;;30:1;27;20:12;5:2;58:49:0;99:1;93:3;:7;;;;24:320;;;;;;'}},\n",
       "    'metadata': '{\"compiler\":{\"version\":\"0.6.0+commit.26b70077\"},\"language\":\"Solidity\",\"output\":{\"abi\":[{\"inputs\":[],\"stateMutability\":\"nonpayable\",\"type\":\"constructor\"},{\"inputs\":[{\"internalType\":\"int256\",\"name\":\"amt\",\"type\":\"int256\"}],\"name\":\"deposit\",\"outputs\":[],\"stateMutability\":\"nonpayable\",\"type\":\"function\"},{\"inputs\":[],\"name\":\"getBalance\",\"outputs\":[{\"internalType\":\"int256\",\"name\":\"\",\"type\":\"int256\"}],\"stateMutability\":\"view\",\"type\":\"function\"},{\"inputs\":[{\"internalType\":\"int256\",\"name\":\"amt\",\"type\":\"int256\"}],\"name\":\"withdraw\",\"outputs\":[],\"stateMutability\":\"nonpayable\",\"type\":\"function\"}],\"devdoc\":{\"methods\":{}},\"userdoc\":{\"methods\":{}}},\"settings\":{\"compilationTarget\":{\"Bank.sol\":\"Bank\"},\"evmVersion\":\"istanbul\",\"libraries\":{},\"metadata\":{\"bytecodeHash\":\"ipfs\"},\"optimizer\":{\"enabled\":false,\"runs\":200},\"remappings\":[]},\"sources\":{\"Bank.sol\":{\"keccak256\":\"0x0a17adb62b51b47bda966114e4653ef68a75b059476e59b487df101d39429f62\",\"urls\":[\"bzz-raw://cad498c12027e74cb6a51c7eca4546903c7efc7f73f3135833cad0f26cc6bd77\",\"dweb:/ipfs/QmQ2p5hti2kmKuPRxSuHdKTgqyA68mjpzWfs7gvaT9tePj\"]}},\"version\":1}'}}},\n",
       " 'sources': {'Bank.sol': {'id': 0}}}"
      ]
     },
     "execution_count": 6,
     "metadata": {},
     "output_type": "execute_result"
    }
   ],
   "source": [
    "compiled_sol = compile_standard(\n",
    "    {\n",
    "        \"language\": \"Solidity\",\n",
    "        \"sources\": {\"Bank.sol\": {\"content\": solidity_contact}},\n",
    "        \"settings\": {\n",
    "            \"outputSelection\": {\n",
    "                \"*\": {\n",
    "                    \"*\": [\"abi\", \"metadata\", \"evm.bytecode\", \"evm.bytecode.sourceMap\"]\n",
    "                }\n",
    "            }\n",
    "        },\n",
    "    },\n",
    "    solc_version=\"0.6.0\",\n",
    ")\n",
    "compiled_sol"
   ]
  },
  {
   "cell_type": "code",
   "execution_count": 7,
   "id": "15a75af5",
   "metadata": {},
   "outputs": [],
   "source": [
    "with open(\"../compile/bank.json\", \"w\") as file:\n",
    "    json.dump(compiled_sol, file)    "
   ]
  },
  {
   "cell_type": "markdown",
   "id": "dd5054a0",
   "metadata": {},
   "source": [
    "**Compiling Solidity Smart Contracts in Python**\n",
    "\n",
    "compile_standard has got a json based layout where you tell the compiler what do you want to do and what to expect as output. What are the inputs\n",
    "\n",
    "1. Language\n",
    "2. Source File and how you invoke the source file(in our case, the python variable created)\n",
    "3. Output: in this case, ABI, Metadata, Bytecode and SourceMap.\n",
    "4. Solidity Version to use.\n"
   ]
  },
  {
   "cell_type": "code",
   "execution_count": 8,
   "id": "f96bcecf",
   "metadata": {},
   "outputs": [
    {
     "data": {
      "text/plain": [
       "'608060405234801561001057600080fd5b50600160008190555061010e806100286000396000f3fe6080604052348015600f57600080fd5b5060043610603c5760003560e01c806312065fe01460415780637e62eab814605d578063f04991f0146088575b600080fd5b604760b3565b6040518082815260200191505060405180910390f35b608660048036036020811015607157600080fd5b810190808035906020019092919050505060bc565b005b60b160048036036020811015609c57600080fd5b810190808035906020019092919050505060ca565b005b60008054905090565b806000540360008190555050565b80600054016000819055505056fea2646970667358221220ac2f9ac0414ca7b2604e93653aca76b900f848f86af45bde45b864c1b778628064736f6c63430006000033'"
      ]
     },
     "execution_count": 8,
     "metadata": {},
     "output_type": "execute_result"
    }
   ],
   "source": [
    "# get bytecode\n",
    "bytecode = compiled_sol[\"contracts\"][\"Bank.sol\"][\"Bank\"][\"evm\"][\"bytecode\"][\"object\"]\n",
    "bytecode"
   ]
  },
  {
   "cell_type": "code",
   "execution_count": 9,
   "id": "e4c09f80",
   "metadata": {},
   "outputs": [
    {
     "data": {
      "text/plain": [
       "[{'inputs': [], 'stateMutability': 'nonpayable', 'type': 'constructor'},\n",
       " {'inputs': [{'internalType': 'int256', 'name': 'amt', 'type': 'int256'}],\n",
       "  'name': 'deposit',\n",
       "  'outputs': [],\n",
       "  'stateMutability': 'nonpayable',\n",
       "  'type': 'function'},\n",
       " {'inputs': [],\n",
       "  'name': 'getBalance',\n",
       "  'outputs': [{'internalType': 'int256', 'name': '', 'type': 'int256'}],\n",
       "  'stateMutability': 'view',\n",
       "  'type': 'function'},\n",
       " {'inputs': [{'internalType': 'int256', 'name': 'amt', 'type': 'int256'}],\n",
       "  'name': 'withdraw',\n",
       "  'outputs': [],\n",
       "  'stateMutability': 'nonpayable',\n",
       "  'type': 'function'}]"
      ]
     },
     "execution_count": 9,
     "metadata": {},
     "output_type": "execute_result"
    }
   ],
   "source": [
    "# get abi (Application Binary Interface)\n",
    "abi = json.loads(\n",
    "    compiled_sol[\"contracts\"][\"Bank.sol\"][\"Bank\"][\"metadata\"])[\"output\"][\"abi\"]\n",
    "abi"
   ]
  },
  {
   "cell_type": "markdown",
   "id": "2f91e77d",
   "metadata": {},
   "source": [
    "**Extracting the ABI and Bytecode from Solidity Smart Contracts in Python**\n",
    "\n",
    "ABI or Application Binary Interface which holds the structure of your contract.\n",
    "\n",
    "There are two things to notice here — name and stateMutability. Name is the name of the object and stateMutability is the kind of object it is — whether it’s a viewable object or an executable function.\n",
    "\n",
    "![deploy1.png](../static/image/deploy/deploy1.png)\n",
    "\n",
    "![deploy2.png](../static/image/deploy/deploy2.png)\n",
    "\n",
    "\n",
    "If you look into Remix IDE, you will see this difference clearly. The orange one is a modifiable object(stateMutability = nonpayable) and the blue ones are view variables.\n",
    "\n",
    "Now, fetch the values for byteCode and abi. You just need to walk through the structure."
   ]
  },
  {
   "cell_type": "markdown",
   "id": "36524ac4",
   "metadata": {},
   "source": [
    "## What is Ganache?\n",
    "Ganache is a platform to perform blockchain operations locally on our machine before deploying a not-perfect file or how we want it to be. In other words, it’s a test blockchain where you can track transactions, inspect changes, and, most importantly– do it locally by creating your own Ethereum blockchain.\n",
    "\n",
    "Depending on whether you like a UI or CLI, you can use Ganache CLI or Ganache."
   ]
  },
  {
   "cell_type": "markdown",
   "id": "0334e4f4",
   "metadata": {},
   "source": [
    "**Connect using Ganache- Local Ethereum Blockchain to deploy Smart Contracts**\n",
    "\n",
    "For deploying the code, you need a few things —\n",
    "\n",
    "1. Destination server(RPC Server)\n",
    "2. Chain ID: This is used in transaction signature process\n",
    "3. Network ID: This is needed for P2P Communication between nodes.\n",
    "4. Address and Private Key\n",
    "\n",
    "Generally, Chain ID and Network ID are kept same for testing\n",
    "\n"
   ]
  },
  {
   "cell_type": "code",
   "execution_count": 10,
   "id": "5c9b5f83",
   "metadata": {},
   "outputs": [
    {
     "data": {
      "text/plain": [
       "<web3.main.Web3 at 0x7fe1d0abc860>"
      ]
     },
     "execution_count": 10,
     "metadata": {},
     "output_type": "execute_result"
    }
   ],
   "source": [
    "# set up connection\n",
    "w3 = Web3(Web3.HTTPProvider(\"http://127.0.0.1:7545\"))\n",
    "w3"
   ]
  },
  {
   "cell_type": "code",
   "execution_count": 11,
   "id": "bc95108c",
   "metadata": {},
   "outputs": [
    {
     "data": {
      "text/plain": [
       "'0xfe5Bb56F15de2251ed7fd6EE7E2d7D95BCc54DB6'"
      ]
     },
     "execution_count": 11,
     "metadata": {},
     "output_type": "execute_result"
    }
   ],
   "source": [
    "chain_id = int(os.getenv('chain_id'))\n",
    "#address = os.getenv('my_address')\n",
    "private_key = os.getenv(\"private_key\")\n",
    "w3.eth.defaultAccount = w3.eth.accounts[0]\n",
    "address = w3.eth.defaultAccount\n",
    "address"
   ]
  },
  {
   "cell_type": "markdown",
   "id": "3c16bf07",
   "metadata": {},
   "source": [
    "With all the information available, it’s time to deploy the contract. The steps —\n",
    "\n",
    "1. Convert the compiled code into an ethereum contract object\n",
    "2. Convert the object into a transaction. Nonce will be the nonce of the server.\n",
    "3. Sign the transaction\n",
    "4. Send the transaction to the blockchain\n",
    "5. Verify the receipt."
   ]
  },
  {
   "cell_type": "code",
   "execution_count": 12,
   "id": "d6266423",
   "metadata": {},
   "outputs": [
    {
     "data": {
      "text/plain": [
       "web3._utils.datatypes.Contract"
      ]
     },
     "execution_count": 12,
     "metadata": {},
     "output_type": "execute_result"
    }
   ],
   "source": [
    "# convert this into a ethereum contract object.\n",
    "ContactList = w3.eth.contract(abi=abi, bytecode=bytecode)\n",
    "ContactList"
   ]
  },
  {
   "cell_type": "code",
   "execution_count": 13,
   "id": "828d39ff",
   "metadata": {},
   "outputs": [
    {
     "data": {
      "text/plain": [
       "3"
      ]
     },
     "execution_count": 13,
     "metadata": {},
     "output_type": "execute_result"
    }
   ],
   "source": [
    "# Get the number of latest transaction\n",
    "nonce = w3.eth.getTransactionCount(address)\n",
    "nonce"
   ]
  },
  {
   "cell_type": "code",
   "execution_count": 14,
   "id": "10fd6482",
   "metadata": {},
   "outputs": [
    {
     "data": {
      "text/plain": [
       "{'value': 0,\n",
       " 'gas': 131815,\n",
       " 'chainId': 1337,\n",
       " 'gasPrice': 20000000000,\n",
       " 'from': '0xfe5Bb56F15de2251ed7fd6EE7E2d7D95BCc54DB6',\n",
       " 'nonce': 3,\n",
       " 'data': '0x608060405234801561001057600080fd5b50600160008190555061010e806100286000396000f3fe6080604052348015600f57600080fd5b5060043610603c5760003560e01c806312065fe01460415780637e62eab814605d578063f04991f0146088575b600080fd5b604760b3565b6040518082815260200191505060405180910390f35b608660048036036020811015607157600080fd5b810190808035906020019092919050505060bc565b005b60b160048036036020811015609c57600080fd5b810190808035906020019092919050505060ca565b005b60008054905090565b806000540360008190555050565b80600054016000819055505056fea2646970667358221220ac2f9ac0414ca7b2604e93653aca76b900f848f86af45bde45b864c1b778628064736f6c63430006000033',\n",
       " 'to': b''}"
      ]
     },
     "execution_count": 14,
     "metadata": {},
     "output_type": "execute_result"
    }
   ],
   "source": [
    "# Build Transaction\n",
    "transaction = ContactList.constructor().buildTransaction(\n",
    "                {\n",
    "                    \"chainId\": chain_id,\n",
    "                    \"gasPrice\": w3.eth.gas_price,\n",
    "                    \"from\": address,\n",
    "                    \"nonce\": nonce,\n",
    "                }\n",
    "            )\n",
    "transaction"
   ]
  },
  {
   "cell_type": "code",
   "execution_count": 15,
   "id": "1fe103bb",
   "metadata": {},
   "outputs": [
    {
     "data": {
      "text/plain": [
       "SignedTransaction(rawTransaction=HexBytes('0xf9018b038504a817c800830202e78080b90136608060405234801561001057600080fd5b50600160008190555061010e806100286000396000f3fe6080604052348015600f57600080fd5b5060043610603c5760003560e01c806312065fe01460415780637e62eab814605d578063f04991f0146088575b600080fd5b604760b3565b6040518082815260200191505060405180910390f35b608660048036036020811015607157600080fd5b810190808035906020019092919050505060bc565b005b60b160048036036020811015609c57600080fd5b810190808035906020019092919050505060ca565b005b60008054905090565b806000540360008190555050565b80600054016000819055505056fea2646970667358221220ac2f9ac0414ca7b2604e93653aca76b900f848f86af45bde45b864c1b778628064736f6c63430006000033820a96a065c9f5a91b563aed74f08f5e1a6b6865498f6378cc4b0be6b0dea6c4ae4f5169a06f9675289d370ed2c4ea264a44abcc0ceed25021743ed5e2e4b4077137f31146'), hash=HexBytes('0x8787765005537f1e5b75061346a7f4c0b1369e81a85dd360835fe4afa65e1373'), r=46040429453895215828518510866743476798946783988876601873671140420893004484969, s=50472561851736447240644160100529962158500369728642060475169763952172714889542, v=2710)"
      ]
     },
     "execution_count": 15,
     "metadata": {},
     "output_type": "execute_result"
    }
   ],
   "source": [
    "# Sign the transaction\n",
    "sign_transaction = w3.eth.account.signTransaction(transaction, private_key=private_key)\n",
    "sign_transaction"
   ]
  },
  {
   "cell_type": "code",
   "execution_count": 16,
   "id": "eeb102f9",
   "metadata": {},
   "outputs": [
    {
     "data": {
      "text/plain": [
       "HexBytes('0x8787765005537f1e5b75061346a7f4c0b1369e81a85dd360835fe4afa65e1373')"
      ]
     },
     "execution_count": 16,
     "metadata": {},
     "output_type": "execute_result"
    }
   ],
   "source": [
    "# Send the transaction\n",
    "transaction_hash = w3.eth.sendRawTransaction(sign_transaction.rawTransaction)\n",
    "transaction_hash"
   ]
  },
  {
   "cell_type": "code",
   "execution_count": 17,
   "id": "8664a369",
   "metadata": {},
   "outputs": [
    {
     "data": {
      "text/plain": [
       "AttributeDict({'transactionHash': HexBytes('0x8787765005537f1e5b75061346a7f4c0b1369e81a85dd360835fe4afa65e1373'),\n",
       " 'transactionIndex': 0,\n",
       " 'blockHash': HexBytes('0x6b1aff307ae64c70cd7731b941978ff6bdac421625e698d47ba38864928b4d6b'),\n",
       " 'blockNumber': 4,\n",
       " 'from': '0xfe5Bb56F15de2251ed7fd6EE7E2d7D95BCc54DB6',\n",
       " 'to': None,\n",
       " 'gasUsed': 131815,\n",
       " 'cumulativeGasUsed': 131815,\n",
       " 'contractAddress': '0x78e4993370572aAFCD29204E1cC9D40C050B740F',\n",
       " 'logs': [],\n",
       " 'status': 1,\n",
       " 'logsBloom': HexBytes('0x00000000000000000000000000000000000000000000000000000000000000000000000000000000000000000000000000000000000000000000000000000000000000000000000000000000000000000000000000000000000000000000000000000000000000000000000000000000000000000000000000000000000000000000000000000000000000000000000000000000000000000000000000000000000000000000000000000000000000000000000000000000000000000000000000000000000000000000000000000000000000000000000000000000000000000000000000000000000000000000000000000000000000000000000000000000')})"
      ]
     },
     "execution_count": 17,
     "metadata": {},
     "output_type": "execute_result"
    }
   ],
   "source": [
    "# Wait for the transaction to be mined, and get the transaction receipt\n",
    "transaction_receipt = w3.eth.wait_for_transaction_receipt(transaction_hash)\n",
    "transaction_receipt"
   ]
  },
  {
   "cell_type": "markdown",
   "id": "458f0dda",
   "metadata": {},
   "source": [
    "If you want to interact with a blockchain, you will do that with either a call or a transact. Call is used to read data from the blockchain, and transact is used to write data to the blockchain. Call function is simple. Fetch the object from ABI and invoke it."
   ]
  },
  {
   "cell_type": "code",
   "execution_count": 18,
   "id": "291ac69f",
   "metadata": {},
   "outputs": [
    {
     "data": {
      "text/plain": [
       "<web3._utils.datatypes.Contract at 0x7fe1d0b28a90>"
      ]
     },
     "execution_count": 18,
     "metadata": {},
     "output_type": "execute_result"
    }
   ],
   "source": [
    "contract_list = w3.eth.contract(address=transaction_receipt.contractAddress, abi=abi)\n",
    "contract_list"
   ]
  },
  {
   "cell_type": "markdown",
   "id": "e5df7b47",
   "metadata": {},
   "source": [
    "Transact is exactly identical to deploying a concept — but with the specific function you want to invoke."
   ]
  },
  {
   "cell_type": "code",
   "execution_count": 19,
   "id": "5b302287",
   "metadata": {},
   "outputs": [],
   "source": [
    "def currentBalance():\n",
    "    return contract_list.functions.getBalance().call()\n",
    "\n",
    "\n",
    "def depositMoney(amt):\n",
    "    contract_list.functions.deposit(amt).transact({'from': address})\n",
    "\n",
    "\n",
    "def withdrawMoney(amt):\n",
    "    contract_list.functions.withdraw(amt).transact({'from': address})"
   ]
  },
  {
   "cell_type": "code",
   "execution_count": 20,
   "id": "4a2a233e",
   "metadata": {},
   "outputs": [
    {
     "data": {
      "text/plain": [
       "1"
      ]
     },
     "execution_count": 20,
     "metadata": {},
     "output_type": "execute_result"
    }
   ],
   "source": [
    "currentBalance()"
   ]
  },
  {
   "cell_type": "code",
   "execution_count": 21,
   "id": "f53f7b50",
   "metadata": {},
   "outputs": [],
   "source": [
    "depositMoney(100)"
   ]
  },
  {
   "cell_type": "code",
   "execution_count": 22,
   "id": "786c1f48",
   "metadata": {},
   "outputs": [
    {
     "data": {
      "text/plain": [
       "101"
      ]
     },
     "execution_count": 22,
     "metadata": {},
     "output_type": "execute_result"
    }
   ],
   "source": [
    "currentBalance()\n"
   ]
  },
  {
   "cell_type": "code",
   "execution_count": 23,
   "id": "7321b884",
   "metadata": {},
   "outputs": [],
   "source": [
    "withdrawMoney(10)"
   ]
  },
  {
   "cell_type": "code",
   "execution_count": 24,
   "id": "4bea5906",
   "metadata": {},
   "outputs": [
    {
     "data": {
      "text/plain": [
       "91"
      ]
     },
     "execution_count": 24,
     "metadata": {},
     "output_type": "execute_result"
    }
   ],
   "source": [
    "currentBalance()"
   ]
  }
 ],
 "metadata": {
  "kernelspec": {
   "display_name": "Python 3 (ipykernel)",
   "language": "python",
   "name": "python3"
  },
  "language_info": {
   "codemirror_mode": {
    "name": "ipython",
    "version": 3
   },
   "file_extension": ".py",
   "mimetype": "text/x-python",
   "name": "python",
   "nbconvert_exporter": "python",
   "pygments_lexer": "ipython3",
   "version": "3.10.11"
  }
 },
 "nbformat": 4,
 "nbformat_minor": 5
}
