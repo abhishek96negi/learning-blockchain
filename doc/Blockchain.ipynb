{
 "cells": [
  {
   "cell_type": "markdown",
   "id": "a2c40376",
   "metadata": {},
   "source": [
    "## Roadmap\n",
    "\n",
    "[BlockChain Roadmap](https://www.youtube.com/watch?v=uULy2rc6YDc)"
   ]
  },
  {
   "cell_type": "markdown",
   "id": "28dcc615",
   "metadata": {},
   "source": [
    "## What is Blockchain technology?\n",
    "\n",
    "Blockchain is a shared, immutable ledger that facilitates the process of recording transactions and tracking assets in a business network. An asset can be tangible (a house, car, cash, land) or intangible (intellectual property, patents, copyrights, branding). Virtually anything of value can be tracked and traded on a blockchain network, reducing risk and cutting costs for all involved.\n",
    "\n",
    "\n",
    "## Simple terms\n",
    "\n",
    "Continuous growing list of records(blocks)\n",
    "1. Blocks are cryptographically linked (SHA256- HASH KEY)\n",
    "2. Decentralized\n",
    "3. Distributed Database.\n",
    "4. Immutable Ledger.\n",
    "\n",
    "![blockchain1.png](../static/image/blockchain/blockchain1.png)"
   ]
  },
  {
   "cell_type": "markdown",
   "id": "f99c3c45",
   "metadata": {},
   "source": [
    "## Why blockchain is important? \n",
    "\n",
    "Business runs on information. The faster it’s received and the more accurate it is, the better. Blockchain is ideal for delivering that information because it provides immediate, shared and completely transparent information stored on an immutable ledger that can be accessed only by permissioned network members. A blockchain network can track orders, payments, accounts, production and much more. And because members share a single view of the truth, you can see all details of a transaction end to end, giving you greater confidence, as well as new efficiencies and opportunities."
   ]
  },
  {
   "cell_type": "markdown",
   "id": "ea2f763f",
   "metadata": {},
   "source": [
    "## Key elements of a blockchain\n",
    "\n",
    "**Distributed ledger technology** All network participants have access to the distributed ledger and its immutable record of transactions. With this shared ledger, transactions are recorded only once, eliminating the duplication of effort that’s typical of traditional business networks.\n",
    "\n",
    "**Immutable records** No participant can change or tamper with a transaction after it’s been recorded to the shared ledger. If a transaction record includes an error, a new transaction must be added to reverse the error, and both transactions are then visible.\n",
    "\n",
    "**Smart contracts** To speed transactions, a set of rules — called a smart contract — is stored on the blockchain and executed automatically. A smart contract can define conditions for corporate bond transfers, include terms for travel insurance to be paid and much more."
   ]
  },
  {
   "cell_type": "markdown",
   "id": "ea88cec3",
   "metadata": {},
   "source": [
    "## How blockchain works\n",
    "\n",
    "   [How does a blockchain work - Simply Explained](https://www.youtube.com/watch?v=SSo_EIwHSd4)\n",
    "\n",
    "**As each transaction occurs, it is recorded as a “block” of data** Those transactions show the movement of an asset that can be tangible (a product) or intangible (intellectual). The data block can record the information of your choice: who, what, when, where, how much and even the condition — such as the temperature of a food shipment.\n",
    "\n",
    "**Each block is connected to the ones before and after it** These blocks form a chain of data as an asset moves from place to place or ownership changes hands. The blocks confirm the exact time and sequence of transactions, and the blocks link securely together to prevent any block from being altered or a block being inserted between two existing blocks.\n",
    "\n",
    "**Transactions are blocked together in an irreversible chain: a blockchain** Each additional block strengthens the verification of the previous block and hence the entire blockchain. This renders the blockchain tamper-evident, delivering the key strength of immutability. This removes the possibility of tampering by a malicious actor — and builds a ledger of transactions you and other network members can trust."
   ]
  },
  {
   "cell_type": "markdown",
   "id": "b95d53a7",
   "metadata": {},
   "source": [
    "## Benefits of blockchain\n",
    "\n",
    "### What needs to change?\n",
    "Operations often waste effort on duplicate record keeping and third-party validations. Record-keeping systems can be vulnerable to fraud and cyberattacks. Limited transparency can slow data verification. And with the arrival of IoT, transaction volumes have exploded. All of this slows business, drains the bottom line — and means we need a better way. Enter blockchain.\n",
    "\n",
    "**Greater trust** With blockchain, as a member of a members-only network, you can rest assured that you are receiving accurate and timely data, and that your confidential blockchain records will be shared only with network members to whom you have specifically granted access.\n",
    "\n",
    "**Greater security** Consensus on data accuracy is required from all network members, and all validated transactions are immutable because they are recorded permanently. No one, not even a system administrator, can delete a transaction.\n",
    "\n",
    "**More efficiencies** With a distributed ledger that is shared among members of a network, time-wasting record reconciliations are eliminated. And to speed transactions, a set of rules — called a smart contract — can be stored on the blockchain and executed automatically."
   ]
  },
  {
   "cell_type": "markdown",
   "id": "aaa1abd6",
   "metadata": {},
   "source": [
    "## Types of blockchain networks\n",
    "\n",
    "There are several ways to build a blockchain network. They can be public, private, permissioned or built by a consortium\n",
    "\n",
    "**Public blockchain networks**\n",
    "A public blockchain is one that anyone can join and participate in, such as Bitcoin. Drawbacks might include substantial computational power required, little or no privacy for transactions, and weak security. These are important considerations for enterprise use cases of blockchain.\n",
    "\n",
    "**Private blockchain networks**\n",
    "A private blockchain network, similar to a public blockchain network, is a decentralized peer-to-peer network. However, one organization governs the network, controlling who is allowed to participate, execute a consensus protocol and maintain the shared ledger. Depending on the use case, this can significantly boost trust and confidence between participants. A private blockchain can be run behind a corporate firewall and even be hosted on premises.\n",
    "\n",
    "**Permissioned blockchain networks**\n",
    "Businesses who set up a private blockchain will generally set up a permissioned blockchain network. It is important to note that public blockchain networks can also be permissioned. This places restrictions on who is allowed to participate in the network and in what transactions. Participants need to obtain an invitation or permission to join.\n",
    "\n",
    "**Consortium blockchains**\n",
    "Multiple organizations can share the responsibilities of maintaining a blockchain. These pre-selected organizations determine who may submit transactions or access the data. A consortium blockchain is ideal for business when all participants need to be permissioned and have a shared responsibility for the blockchain.\n",
    "\n",
    "\n",
    "# Simple Terms\n",
    "\n",
    "**Public Blockchain**\n",
    "\n",
    "- Open\n",
    "\n",
    "- Anyone can be part of it\n",
    "\n",
    "**Private Blockchain**\n",
    "\n",
    "- Specially for single company\n",
    "\n",
    "**Federated Blockchain**\n",
    "\n",
    "- group of people/ companies"
   ]
  },
  {
   "cell_type": "markdown",
   "id": "22df03fd",
   "metadata": {},
   "source": [
    "## Blockchain security\n",
    "\n",
    "**Risk management systems for blockchain networks**\n",
    "\n",
    "When building an enterprise blockchain application, it’s important to have a comprehensive security strategy that uses cybersecurity frameworks, assurance services and best practices to reduce risks against attacks and fraud."
   ]
  },
  {
   "cell_type": "markdown",
   "id": "8962a24c",
   "metadata": {},
   "source": [
    "# Blockchain Technology Architecture\n",
    "\n",
    "**Public Blockchain**\n",
    "\n",
    "- Open\n",
    "\n",
    "- Anyone can be part of it\n",
    "\n",
    "![blockchain2.png](../static/image/blockchain/blockchain2.png)\n",
    "\n",
    "* Block Header - \n",
    "    \n",
    "        - Timestamp: When this block was created.\n",
    "        - Version: Version number\n",
    "        - Merkle Root\n",
    "        - Proof Of Work (POW) - (Difficulty Target, Nonce)\n",
    "        - Previous Hash\n",
    "\n",
    "- POW (Proof Of Work):- \n",
    "    * block has to be validated before making change.\n",
    "\n",
    "    * it takes atleast 10 minutes to add the block in a blockchain\n",
    "    * blockchain will be stored on multiple machines\n",
    "    \n",
    "    **Every machine in a blockchain network will have the copy of the blockchain**\n",
    "    \n",
    "    * Consensus Algorithm\n",
    "    \n",
    "* To change Block:\n",
    "\n",
    "    - need super computer.\n",
    "    - 51% majority of the blockchain network.  "
   ]
  },
  {
   "cell_type": "markdown",
   "id": "d1c1bb0b",
   "metadata": {},
   "source": [
    "## Drawbacks of Blockchain\n",
    "\n",
    "1. Complex\n",
    "2. Slow Speed\n",
    "3. Wastage of Resources\n",
    "4. Security/ Privacy\n",
    "5. 51% Attack"
   ]
  }
 ],
 "metadata": {
  "kernelspec": {
   "display_name": "Python 3 (ipykernel)",
   "language": "python",
   "name": "python3"
  },
  "language_info": {
   "codemirror_mode": {
    "name": "ipython",
    "version": 3
   },
   "file_extension": ".py",
   "mimetype": "text/x-python",
   "name": "python",
   "nbconvert_exporter": "python",
   "pygments_lexer": "ipython3",
   "version": "3.10.11"
  }
 },
 "nbformat": 4,
 "nbformat_minor": 5
}
